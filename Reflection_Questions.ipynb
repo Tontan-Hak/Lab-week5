{
 "cells": [
  {
   "cell_type": "code",
   "execution_count": null,
   "metadata": {},
   "outputs": [],
   "source": [
    "#Reflection is not only a description of 'what you've seen' or 'what you've done', but rather it is a process of drawing comparisons with what happened, what you already know, relating this experience to the theories you have been introduced to and modifying your own ideas and professional practice in light of this reflection.\n",
    "\n",
    "#A scaffold for this process is the 4 Rs. The steps below are based on Bain (2002). This 4Rs process is based on the Reflection-On-action described earlier by Dewey, Schon and Van Manen. The process is designed to encourage you to address your ongoing learning from a number of standpoints (practical, cognitive, emotional, your values, your beliefs, your ethics and the political imperatives placed upon you)\n",
    "\n",
    "#Report - At this stage you describe, report or re-tell the key elements of what you have learnt, seen or experienced. Why is it relevant? Respond to the incident or issue by making observations, expressing your opinion, or asking questions\n",
    "\n",
    "#Relate - You should draw a relationship between your current personal or theoretical understandings and identify aspects of the observation which have personal meaning or connect with your experience. Relate or make a connection between the incident or issue and your own skills, professional experience, or discipline knowledge. Have I seen this before? Were the conditions the same or different? Do I have the skills and knowledge to deal with this?\n",
    "\n",
    "#Reason - You should explore the relationship between theory and practice and seek a deep understanding of why something has happened. You can explore or analyse a concept, event or experience by asking questions and looking for answers, reviewing the literature, considering alternatives and multiple perspectives. Highlight in detail significant factors underlying the incident or issue. How would a knowledgeable and/or experienced person perceive/handle this? What are the ethics involved?\n",
    "\n",
    "#Reconstruct -Discuss improvements which could be made or identify something you need or plan to do or change.  You should be able to generalize and/or apply your learning to other contexts and future professional practice. This may involve developing general principles, formulating personal theories of teaching or taking a stand or position on an issue. How would I deal with this next time? What might work and why? Are there different options? What might happen if ....? Can I make changes which will benefit others?\n",
    "\n",
    "\n",
    "#Report - At this stage you describe, report or re-tell the key elements of what you have learnt, seen or experienced. Why is it relevant? Respond to the incident or issue by making observations, expressing your opinion, or asking questions\n",
    "\n",
    "#In the context above, please provide a report on:\n",
    "\n",
    "#Constructivism\n",
    "#You are expected to write about 70 words of your own.\n",
    "\n",
    "#The marking scheme is described below.\n",
    "\n",
    "#5 marks: a demonstration of own effort (eg using one's own words and effort) and the answer being in the right direction (pls note that the answer needs not be perfect but it definitely answers what has been asked)\n",
    "\n",
    "#4 marks.  Falling short of the criteria for 5 marks by a fair bit;\n",
    "\n",
    "#3 marks.  Falling short of the criteria for 5 marks by a distance;\n",
    "\n",
    "#2 marks.  Falling short of the criteria for 5 by a big distance (eg not answering the question to the  point)\n",
    "\n",
    "#1 mark.  Lack of effort or answer completely in the wrong direction or an evidence of copying from the Internet or other source\n",
    "\n",
    "#0 mark: Strong evidence of copying from the Internet or other sources or from each other.\n",
    "#Answer\n",
    "\n"
   ]
  }
 ],
 "metadata": {
  "language_info": {
   "name": "python"
  },
  "orig_nbformat": 4
 },
 "nbformat": 4,
 "nbformat_minor": 2
}
