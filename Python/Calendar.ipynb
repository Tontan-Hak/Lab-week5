{
 "cells": [
  {
   "cell_type": "markdown",
   "metadata": {},
   "source": [
    "# Calendar month using Python"
   ]
  },
  {
   "cell_type": "code",
   "execution_count": 2,
   "metadata": {},
   "outputs": [
    {
     "name": "stdout",
     "output_type": "stream",
     "text": [
      "    January 2025\n",
      "Su Mo Tu We Th Fr Sa\n",
      "          1  2  3  4\n",
      " 5  6  7  8  9 10 11\n",
      "12 13 14 15 16 17 18\n",
      "19 20 21 22 23 24 25\n",
      "26 27 28 29 30 31\n",
      "\n"
     ]
    }
   ],
   "source": [
    "import calendar\n",
    "def display_calendar():\n",
    "    year = int(input(\"Enter year: \"))\n",
    "    month = int(input(\"Enter month (1-12):\"))\n",
    "    cal = calendar.TextCalendar(calendar.SUNDAY)\n",
    "    month_calendar = cal.formatmonth(year, month)\n",
    "    print(month_calendar)\n",
    "display_calendar()"
   ]
  },
  {
   "cell_type": "markdown",
   "metadata": {},
   "source": [
    "## Create a funnel chart using Matplotlib"
   ]
  },
  {
   "cell_type": "code",
   "execution_count": 3,
   "metadata": {},
   "outputs": [
    {
     "data": {
      "image/png": "[encoded data removed]",
      "text/plain": [
       "<Figure size 640x480 with 1 Axes>"
      ]
     },
     "metadata": {},
     "output_type": "display_data"
    }
   ],
   "source": [
    "import matplotlib.pyplot as plt\n",
    "labels = ['Step 1', 'Step 2', 'Step 3', 'Step 4', 'Step 5']\n",
    "values = [100,75,50,30,10] \n",
    "\n",
    "cumulative_values = [sum(values[:i+1]) for i in range(len(values))]\n",
    "\n",
    "colors = ['blue', 'green', 'orange', 'red', 'purple']\n",
    "\n",
    "fig, ax = plt.subplots()\n",
    "for i in range(len(labels)): \n",
    "    ax.fill_between([i,i+1],0,cumulative_values[i],step='mid', alpha=0.7,color=colors[i])\n",
    "\n",
    "ax.set_yticks(range(len(labels)))\n",
    "ax.set_yticklabels(labels)\n",
    "ax.set_xlabel('Converion Rate')\n",
    "\n",
    "for i, value in enumerate(cumulative_values):\n",
    "    ax.annotate(str(value), xy=(value, i), xytext=(5,5), textcoords='offset points')\n",
    "plt.title('Funnel Chart')\n",
    "plt.show()"
   ]
  },
  {
   "cell_type": "markdown",
   "metadata": {},
   "source": [
    "## LaTeX math description from Python functions"
   ]
  },
  {
   "cell_type": "code",
   "execution_count": 4,
   "metadata": {},
   "outputs": [],
   "source": [
    "import math "
   ]
  }
 ],
 "metadata": {
  "kernelspec": {
   "display_name": "myenv",
   "language": "python",
   "name": "myenv"
  },
  "language_info": {
   "codemirror_mode": {
    "name": "ipython",
    "version": 3
   },
   "file_extension": ".py",
   "mimetype": "text/x-python",
   "name": "python",
   "nbconvert_exporter": "python",
   "pygments_lexer": "ipython3",
   "version": "3.12.1"
  }
 },
 "nbformat": 4,
 "nbformat_minor": 2
}
