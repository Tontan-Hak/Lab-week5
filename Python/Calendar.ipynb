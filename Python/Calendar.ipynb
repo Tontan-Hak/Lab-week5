{
 "cells": [
  {
   "cell_type": "code",
   "execution_count": 1,
   "metadata": {},
   "outputs": [
    {
     "name": "stdout",
     "output_type": "stream",
     "text": [
      "   December 2025\n",
      "Su Mo Tu We Th Fr Sa\n",
      "    1  2  3  4  5  6\n",
      " 7  8  9 10 11 12 13\n",
      "14 15 16 17 18 19 20\n",
      "21 22 23 24 25 26 27\n",
      "28 29 30 31\n",
      "\n"
     ]
    }
   ],
   "source": [
    "import calendar\n",
    "def display_calendar():\n",
    "    year = int(input(\"Enter year: \"))\n",
    "    month = int(input(\"Enter month (1-12):\"))\n",
    "    cal = calendar.TextCalendar(calendar.SUNDAY)\n",
    "    month_calendar = cal.formatmonth(year, month)\n",
    "    print(month_calendar)\n",
    "display_calendar()"
   ]
  }
 ],
 "metadata": {
  "kernelspec": {
   "display_name": "myenv",
   "language": "python",
   "name": "myenv"
  },
  "language_info": {
   "codemirror_mode": {
    "name": "ipython",
    "version": 3
   },
   "file_extension": ".py",
   "mimetype": "text/x-python",
   "name": "python",
   "nbconvert_exporter": "python",
   "pygments_lexer": "ipython3",
   "version": "3.12.1"
  }
 },
 "nbformat": 4,
 "nbformat_minor": 2
}
