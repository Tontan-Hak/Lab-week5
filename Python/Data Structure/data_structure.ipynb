{
 "cells": [
  {
   "cell_type": "markdown",
   "metadata": {},
   "source": [
    "## 1. Creating a Set:"
   ]
  },
  {
   "cell_type": "code",
   "execution_count": 1,
   "metadata": {},
   "outputs": [
    {
     "name": "stdout",
     "output_type": "stream",
     "text": [
      "Set created: {1, 2, 3} Empty set: set()\n"
     ]
    }
   ],
   "source": [
    "my_set = {1, 2, 3}\n",
    "empty_set = set()\n",
    "print(\"Set created:\", my_set, \"Empty set:\", empty_set)"
   ]
  },
  {
   "cell_type": "markdown",
   "metadata": {},
   "source": [
    "## 2. Adding Elements to a Set:"
   ]
  },
  {
   "cell_type": "code",
   "execution_count": 2,
   "metadata": {},
   "outputs": [
    {
     "name": "stdout",
     "output_type": "stream",
     "text": [
      "After adding 4: {1, 2, 3, 4}\n"
     ]
    }
   ],
   "source": [
    "my_set.add(4)\n",
    "print(\"After adding 4:\", my_set)"
   ]
  },
  {
   "cell_type": "markdown",
   "metadata": {},
   "source": [
    "## 3. Removing Elements from a Set:"
   ]
  },
  {
   "cell_type": "code",
   "execution_count": 3,
   "metadata": {},
   "outputs": [
    {
     "name": "stdout",
     "output_type": "stream",
     "text": [
      "After removing 2: {1, 3, 4}\n",
      "After discarding 5 (no change if not found): {1, 3, 4}\n"
     ]
    }
   ],
   "source": [
    "# Using remove (raises KeyError if not found):\n",
    "my_set.remove(2)\n",
    "print(\"After removing 2:\", my_set)\n",
    "\n",
    "# Using discard (no error if not found):\n",
    "my_set.discard(5)  # 5 is not in the set, but no error raised\n",
    "print(\"After discarding 5 (no change if not found):\", my_set)"
   ]
  },
  {
   "cell_type": "markdown",
   "metadata": {},
   "source": [
    "## 4. Set Union: Combines elements of two sets."
   ]
  },
  {
   "cell_type": "code",
   "execution_count": 4,
   "metadata": {},
   "outputs": [
    {
     "name": "stdout",
     "output_type": "stream",
     "text": [
      "Union of set1 and set2: {1, 2, 3, 4, 5}\n"
     ]
    }
   ],
   "source": [
    "set1 = {1, 2, 3}\n",
    "set2 = {3, 4, 5}\n",
    "union_set = set1.union(set2)\n",
    "print(\"Union of set1 and set2:\", union_set)"
   ]
  },
  {
   "cell_type": "markdown",
   "metadata": {},
   "source": [
    "## 5. Set Intersection: Returns elements common to both sets."
   ]
  },
  {
   "cell_type": "code",
   "execution_count": 5,
   "metadata": {},
   "outputs": [
    {
     "name": "stdout",
     "output_type": "stream",
     "text": [
      "Intersection of set1 and set2: {3}\n"
     ]
    }
   ],
   "source": [
    "intersection_set = set1.intersection(set2)\n",
    "print(\"Intersection of set1 and set2:\", intersection_set)"
   ]
  },
  {
   "cell_type": "markdown",
   "metadata": {},
   "source": [
    "## 6. Set Difference"
   ]
  },
  {
   "cell_type": "code",
   "execution_count": 6,
   "metadata": {},
   "outputs": [
    {
     "name": "stdout",
     "output_type": "stream",
     "text": [
      "Difference of set1 and set2 (set1 - set2): {1, 2}\n"
     ]
    }
   ],
   "source": [
    "difference_set = set1.difference(set2)\n",
    "print(\"Difference of set1 and set2 (set1 - set2):\", difference_set)"
   ]
  },
  {
   "cell_type": "markdown",
   "metadata": {},
   "source": [
    "## 7. Set Symmetric Difference"
   ]
  },
  {
   "cell_type": "code",
   "execution_count": 7,
   "metadata": {},
   "outputs": [
    {
     "name": "stdout",
     "output_type": "stream",
     "text": [
      "Symmetric Difference of set1 and set2: {1, 2, 4, 5}\n"
     ]
    }
   ],
   "source": [
    "sym_diff_set = set1.symmetric_difference(set2)\n",
    "print(\"Symmetric Difference of set1 and set2:\", sym_diff_set)"
   ]
  },
  {
   "cell_type": "markdown",
   "metadata": {},
   "source": [
    "## 8. Checking for Subset"
   ]
  },
  {
   "cell_type": "code",
   "execution_count": 8,
   "metadata": {},
   "outputs": [
    {
     "name": "stdout",
     "output_type": "stream",
     "text": [
      "Is subset a subset of set1? True\n"
     ]
    }
   ],
   "source": [
    "subset = {1, 2}\n",
    "print(\"Is subset a subset of set1?\", subset.issubset(set1))"
   ]
  },
  {
   "cell_type": "markdown",
   "metadata": {},
   "source": [
    "## 9. Checking for Superset"
   ]
  },
  {
   "cell_type": "code",
   "execution_count": 9,
   "metadata": {},
   "outputs": [
    {
     "name": "stdout",
     "output_type": "stream",
     "text": [
      "Is set1 a superset of subset? True\n"
     ]
    }
   ],
   "source": [
    "print(\"Is set1 a superset of subset?\", set1.issuperset(subset))"
   ]
  },
  {
   "cell_type": "markdown",
   "metadata": {},
   "source": [
    "## 10. Set Comprehension"
   ]
  },
  {
   "cell_type": "code",
   "execution_count": 10,
   "metadata": {},
   "outputs": [
    {
     "name": "stdout",
     "output_type": "stream",
     "text": [
      "Set comprehension (squares of numbers 0-4): {0, 1, 4, 9, 16}\n"
     ]
    }
   ],
   "source": [
    "squares = {x**2 for x in range(5)}\n",
    "print(\"Set comprehension (squares of numbers 0-4):\", squares)"
   ]
  },
  {
   "cell_type": "markdown",
   "metadata": {},
   "source": [
    "## 11. Checking for Membership"
   ]
  },
  {
   "cell_type": "code",
   "execution_count": 11,
   "metadata": {},
   "outputs": [
    {
     "name": "stdout",
     "output_type": "stream",
     "text": [
      "Is 3 in my_set? True\n"
     ]
    }
   ],
   "source": [
    "print(\"Is 3 in my_set?\", 3 in my_set)"
   ]
  },
  {
   "cell_type": "markdown",
   "metadata": {},
   "source": [
    "## 12. Clearing a Set"
   ]
  },
  {
   "cell_type": "code",
   "execution_count": 12,
   "metadata": {},
   "outputs": [
    {
     "name": "stdout",
     "output_type": "stream",
     "text": [
      "After clearing my_set: set()\n"
     ]
    }
   ],
   "source": [
    "my_set.clear()\n",
    "print(\"After clearing my_set:\", my_set)"
   ]
  },
  {
   "cell_type": "markdown",
   "metadata": {},
   "source": [
    "## 13. Copying a Set"
   ]
  },
  {
   "cell_type": "code",
   "execution_count": 13,
   "metadata": {},
   "outputs": [
    {
     "name": "stdout",
     "output_type": "stream",
     "text": [
      "Copy of set1: {1, 2, 3}\n"
     ]
    }
   ],
   "source": [
    "copy_set = set1.copy()\n",
    "print(\"Copy of set1:\", copy_set)"
   ]
  },
  {
   "cell_type": "markdown",
   "metadata": {},
   "source": [
    "## 14. Frozenset (Immutable Set)"
   ]
  },
  {
   "cell_type": "code",
   "execution_count": 14,
   "metadata": {},
   "outputs": [
    {
     "name": "stdout",
     "output_type": "stream",
     "text": [
      "Frozenset: frozenset({1, 2, 3})\n"
     ]
    }
   ],
   "source": [
    "frozen = frozenset([1, 2, 3])\n",
    "print(\"Frozenset:\", frozen)"
   ]
  },
  {
   "cell_type": "markdown",
   "metadata": {},
   "source": [
    "## 14. Frozenset (Immutable Set)"
   ]
  },
  {
   "cell_type": "code",
   "execution_count": 15,
   "metadata": {},
   "outputs": [
    {
     "name": "stdout",
     "output_type": "stream",
     "text": [
      "Frozenset: frozenset({1, 2, 3})\n"
     ]
    }
   ],
   "source": [
    "frozen = frozenset([1, 2, 3])\n",
    "print(\"Frozenset:\", frozen)"
   ]
  },
  {
   "cell_type": "markdown",
   "metadata": {},
   "source": [
    "## 15. Set Length"
   ]
  },
  {
   "cell_type": "code",
   "execution_count": 16,
   "metadata": {},
   "outputs": [
    {
     "name": "stdout",
     "output_type": "stream",
     "text": [
      "Length of set1: 3\n"
     ]
    }
   ],
   "source": [
    "print(\"Length of set1:\", len(set1))"
   ]
  },
  {
   "cell_type": "markdown",
   "metadata": {},
   "source": [
    "## 16. Iterating Over a Set"
   ]
  },
  {
   "cell_type": "code",
   "execution_count": 17,
   "metadata": {},
   "outputs": [
    {
     "name": "stdout",
     "output_type": "stream",
     "text": [
      "Iterating over set1:\n",
      "1\n",
      "2\n",
      "3\n"
     ]
    }
   ],
   "source": [
    "print(\"Iterating over set1:\")\n",
    "for element in set1:\n",
    "    print(element)"
   ]
  },
  {
   "cell_type": "markdown",
   "metadata": {},
   "source": [
    "## 17. Finding Maximum and Minimum in a Set"
   ]
  },
  {
   "cell_type": "code",
   "execution_count": 18,
   "metadata": {},
   "outputs": [
    {
     "name": "stdout",
     "output_type": "stream",
     "text": [
      "Maximum in set1: 3\n",
      "Minimum in set1: 1\n"
     ]
    }
   ],
   "source": [
    "print(\"Maximum in set1:\", max(set1))\n",
    "print(\"Minimum in set1:\", min(set1))"
   ]
  }
 ],
 "metadata": {
  "kernelspec": {
   "display_name": "myenv",
   "language": "python",
   "name": "myenv"
  },
  "language_info": {
   "codemirror_mode": {
    "name": "ipython",
    "version": 3
   },
   "file_extension": ".py",
   "mimetype": "text/x-python",
   "name": "python",
   "nbconvert_exporter": "python",
   "pygments_lexer": "ipython3",
   "version": "3.12.1"
  }
 },
 "nbformat": 4,
 "nbformat_minor": 2
}
