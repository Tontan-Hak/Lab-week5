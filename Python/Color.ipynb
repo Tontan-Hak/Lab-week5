{
 "cells": [
  {
   "cell_type": "markdown",
   "metadata": {},
   "source": [
    "# Convert Hex to RGB using Python\n",
    "pip install webcolors"
   ]
  },
  {
   "cell_type": "code",
   "execution_count": 1,
   "metadata": {},
   "outputs": [
    {
     "name": "stdout",
     "output_type": "stream",
     "text": [
      "red\n"
     ]
    }
   ],
   "source": [
    "from webcolors import hex_to_name\n",
    "\n",
    "def color_code_to_name(color_code):\n",
    "    try:\n",
    "        color_name = hex_to_name(color_code)\n",
    "        return color_name\n",
    "    except ValueError:\n",
    "        return None \n",
    "colorcode = input(\"Enter color code : \")\n",
    "result_name = color_code_to_name(colorcode)\n",
    "print(result_name)\n",
    "#ff0000"
   ]
  },
  {
   "cell_type": "markdown",
   "metadata": {},
   "source": [
    "# Convert RGB to Hex using Python"
   ]
  },
  {
   "cell_type": "code",
   "execution_count": 3,
   "metadata": {},
   "outputs": [
    {
     "name": "stdout",
     "output_type": "stream",
     "text": [
      "#ff0000\n"
     ]
    }
   ],
   "source": [
    "from webcolors import name_to_hex\n",
    "\n",
    "def color_name_to_code(color_name):\n",
    "    try:\n",
    "        color_code = name_to_hex(color_name)\n",
    "        return color_code\n",
    "    except ValueError:\n",
    "        return None \n",
    "colorcode = input(\"Enter color name : \")\n",
    "result_code = color_name_to_code(colorcode)\n",
    "print(result_code)"
   ]
  }
 ],
 "metadata": {
  "kernelspec": {
   "display_name": "myenv",
   "language": "python",
   "name": "myenv"
  },
  "language_info": {
   "codemirror_mode": {
    "name": "ipython",
    "version": 3
   },
   "file_extension": ".py",
   "mimetype": "text/x-python",
   "name": "python",
   "nbconvert_exporter": "python",
   "pygments_lexer": "ipython3",
   "version": "3.12.1"
  }
 },
 "nbformat": 4,
 "nbformat_minor": 2
}
