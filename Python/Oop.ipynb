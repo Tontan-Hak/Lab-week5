{
 "cells": [
  {
   "cell_type": "markdown",
   "metadata": {},
   "source": [
    "## Object-Oriented Programming"
   ]
  },
  {
   "cell_type": "code",
   "execution_count": 1,
   "metadata": {},
   "outputs": [
    {
     "name": "stdout",
     "output_type": "stream",
     "text": [
      "red\n"
     ]
    }
   ],
   "source": [
    "class Apple:\n",
    "    def __init__(self):\n",
    "        self.color = \"red\"\n",
    "        self.flavor = \"sweet\"\n",
    "\n",
    "honeycrisp = Apple()\n",
    "print(honeycrisp.color)\n",
    "\n",
    "# prints \"red\""
   ]
  },
  {
   "cell_type": "code",
   "execution_count": 2,
   "metadata": {},
   "outputs": [
    {
     "name": "stdout",
     "output_type": "stream",
     "text": [
      "sweet\n",
      "tart\n"
     ]
    }
   ],
   "source": [
    "class Apple:\n",
    "    def __init__(self, color, flavor):\n",
    "        self.color = color\n",
    "        self.flavor = flavor\n",
    "\n",
    "honeycrisp = Apple(\"red\", \"sweet\")\n",
    "fuji = Apple(\"red\", \"tart\")\n",
    "print(honeycrisp.flavor)\n",
    "print(fuji.flavor)\n",
    "\n",
    "# prints \"sweet\" and \"tart\""
   ]
  },
  {
   "cell_type": "code",
   "execution_count": 3,
   "metadata": {},
   "outputs": [
    {
     "name": "stdout",
     "output_type": "stream",
     "text": [
      "an apple which is red and sweet\n"
     ]
    }
   ],
   "source": [
    "class Apple:\n",
    "    def __init__(self, color, flavor):\n",
    "        self.color = color\n",
    "        self.flavor = flavor\n",
    "\n",
    "    def __str__(self):\n",
    "        return \"an apple which is {} and {}\".format(self.color, self.flavor)\n",
    "\n",
    "honeycrisp = Apple(\"red\", \"sweet\")\n",
    "print(honeycrisp)\n",
    "\n",
    "# prints \"an apple which is red and sweet\""
   ]
  },
  {
   "cell_type": "markdown",
   "metadata": {},
   "source": [
    "### Special Methods"
   ]
  },
  {
   "cell_type": "code",
   "execution_count": 4,
   "metadata": {},
   "outputs": [],
   "source": [
    "class Apple:\n",
    "    def __init__(self, color, flavor):\n",
    "        self.color = color\n",
    "        self.flavor = flavor"
   ]
  },
  {
   "cell_type": "code",
   "execution_count": 5,
   "metadata": {},
   "outputs": [
    {
     "name": "stdout",
     "output_type": "stream",
     "text": [
      "red\n"
     ]
    }
   ],
   "source": [
    "jonagold = Apple(\"red\", \"sweet\")\n",
    "print(jonagold.color)"
   ]
  },
  {
   "cell_type": "code",
   "execution_count": 6,
   "metadata": {},
   "outputs": [],
   "source": [
    "class Apple:\n",
    "    def __init__(self, color, flavor):\n",
    "        self.color = color\n",
    "        self.flavor = flavor\n",
    "    def __str__(self):\n",
    "        return \"This apple is {} and its flavor is {}\".format(self.color, self.flavor)"
   ]
  },
  {
   "cell_type": "code",
   "execution_count": 7,
   "metadata": {},
   "outputs": [
    {
     "name": "stdout",
     "output_type": "stream",
     "text": [
      "This apple is red and its flavor is sweet\n"
     ]
    }
   ],
   "source": [
    "jonagold = Apple(\"red\", \"sweet\")\n",
    "print(jonagold)"
   ]
  },
  {
   "cell_type": "markdown",
   "metadata": {},
   "source": [
    "### Note\n",
    "- Methods: Functions that operate on the attributees of a specific instance of a class"
   ]
  },
  {
   "cell_type": "code",
   "execution_count": 8,
   "metadata": {},
   "outputs": [
    {
     "name": "stdout",
     "output_type": "stream",
     "text": [
      "Oink! I'm Hamlet! Oink!\n"
     ]
    }
   ],
   "source": [
    "class Piglet: \n",
    "    name = \"piglet\"\n",
    "    def speak(self): \n",
    "        print(\"Oink! I'm {}! Oink!\".format(self.name))\n",
    "hamlet = Piglet()\n",
    "hamlet.name = \"Hamlet\"\n",
    "hamlet.speak()"
   ]
  },
  {
   "cell_type": "code",
   "execution_count": 9,
   "metadata": {},
   "outputs": [
    {
     "name": "stdout",
     "output_type": "stream",
     "text": [
      "Oink! I'm Petunia! Oink!\n"
     ]
    }
   ],
   "source": [
    "petunia = Piglet()\n",
    "petunia.name = \"Petunia\"\n",
    "petunia.speak()"
   ]
  },
  {
   "cell_type": "code",
   "execution_count": 16,
   "metadata": {},
   "outputs": [
    {
     "name": "stdout",
     "output_type": "stream",
     "text": [
      "0\n",
      "36\n"
     ]
    }
   ],
   "source": [
    "class Piglet:\n",
    "    years = 0\n",
    "    def pig_years(self):\n",
    "        return self.years * 18\n",
    "piggy = Piglet()\n",
    "print(piggy.pig_years())\n",
    "piggy.years = 2\n",
    "print(piggy.pig_years())"
   ]
  },
  {
   "cell_type": "code",
   "execution_count": 18,
   "metadata": {},
   "outputs": [
    {
     "name": "stdout",
     "output_type": "stream",
     "text": [
      "The area of triangle 1 is 25.0\n",
      "The area of triangle 2 is 24.0\n",
      "The area of both triangles is 49.0\n"
     ]
    }
   ],
   "source": [
    "class Triangle:\n",
    "    def __init__(self, base, height):\n",
    "        self.base = base\n",
    "        self.height = height\n",
    "    def area(self):\n",
    "        return 0.5 * self.base * self.height\n",
    "    def __add__(self, other):\n",
    "        return self.area() + other.area()\n",
    "    \n",
    "triangle1 = Triangle(10, 5)\n",
    "triangle2 = Triangle(6, 8)\n",
    "print(\"The area of triangle 1 is\", triangle1.area())\n",
    "print(\"The area of triangle 2 is\", triangle2.area())\n",
    "print(\"The area of both triangles is\", triangle1 + triangle2)"
   ]
  }
 ],
 "metadata": {
  "kernelspec": {
   "display_name": "myenv",
   "language": "python",
   "name": "myenv"
  },
  "language_info": {
   "codemirror_mode": {
    "name": "ipython",
    "version": 3
   },
   "file_extension": ".py",
   "mimetype": "text/x-python",
   "name": "python",
   "nbconvert_exporter": "python",
   "pygments_lexer": "ipython3",
   "version": "3.12.1"
  }
 },
 "nbformat": 4,
 "nbformat_minor": 2
}
