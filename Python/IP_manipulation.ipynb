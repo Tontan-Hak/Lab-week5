{
 "cells": [
  {
   "cell_type": "markdown",
   "metadata": {},
   "source": [
    "# 1.Check if an IP Address is private\n",
    "This program checks whether an IP address belongs to a private range."
   ]
  },
  {
   "cell_type": "code",
   "execution_count": 2,
   "metadata": {},
   "outputs": [
    {
     "name": "stdout",
     "output_type": "stream",
     "text": [
      "Is 45.119.135.39 private? False\n"
     ]
    }
   ],
   "source": [
    "import ipaddress\n",
    "def check_private_ip(ip):\n",
    "    try:\n",
    "        ip_obj = ipaddress.ip_address(ip)\n",
    "        return ip_obj.is_private\n",
    "    except ValueError:\n",
    "        return False\n",
    "ip = \"45.119.135.39\"\n",
    "print(f\"Is {ip} private? {check_private_ip(ip)}\")"
   ]
  },
  {
   "cell_type": "markdown",
   "metadata": {},
   "source": [
    "# 2. Calculate the Network Range from a CIDR Notation \n",
    "This program calculates the network range from a given CIDR notation."
   ]
  },
  {
   "cell_type": "code",
   "execution_count": 3,
   "metadata": {},
   "outputs": [
    {
     "name": "stdout",
     "output_type": "stream",
     "text": [
      "Network range: 45.119.135.0 - 45.119.135.255\n"
     ]
    }
   ],
   "source": [
    "import ipaddress\n",
    "\n",
    "def get_network_range(cidr):\n",
    "    try:\n",
    "        network = ipaddress.ip_network(cidr, strict=False)\n",
    "        return (network.network_address, network.broadcast_address)\n",
    "    except ValueError:\n",
    "        return None \n",
    "cidr = \"45.119.135.39/24\"\n",
    "network_range = get_network_range(cidr)\n",
    "if network_range:\n",
    "    print(f\"Network range: {network_range[0]} - {network_range[1]}\")"
   ]
  },
  {
   "cell_type": "markdown",
   "metadata": {},
   "source": [
    "# 3. check if an IP Address is in a Specific Network\n",
    "This program checks if a given IP address is part of a specified network."
   ]
  },
  {
   "cell_type": "code",
   "execution_count": 10,
   "metadata": {},
   "outputs": [
    {
     "name": "stdout",
     "output_type": "stream",
     "text": [
      "Is 45.119.135.39 in network 45.119.135.0/24? True\n"
     ]
    }
   ],
   "source": [
    "import ipaddress \n",
    "\n",
    "def ip_in_network(ip, network):\n",
    "    try:\n",
    "        network_obj = ipaddress.ip_network(network, strict=False)\n",
    "        # network_obj = ipaddress.ip_network(network, strick=False)\n",
    "        ip_obj = ipaddress.ip_address(ip)\n",
    "        return ip_obj in network_obj \n",
    "    except ValueError:\n",
    "        return False\n",
    "ip = \"45.119.135.39\"\n",
    "network = \"45.119.135.0/24\"\n",
    "print(f\"Is {ip} in network {network}? {ip_in_network(ip, network)}\")"
   ]
  },
  {
   "cell_type": "markdown",
   "metadata": {},
   "source": [
    "# 4. Generate All IP Addresses in Network\n",
    "This program generate all possible IP addresses within a given network."
   ]
  },
  {
   "cell_type": "code",
   "execution_count": 17,
   "metadata": {},
   "outputs": [
    {
     "name": "stdout",
     "output_type": "stream",
     "text": [
      "IP addresses in 45.119.135.39/30: ['45.119.135.37', '45.119.135.38']\n"
     ]
    }
   ],
   "source": [
    "import ipaddress \n",
    "\n",
    "def generate_ips_in_network(network):\n",
    "    try:\n",
    "        network_obj = ipaddress.ip_network(network, strict=False)\n",
    "        return [str(ip) for ip in network_obj.hosts()]\n",
    "    except ValueError:\n",
    "        return []\n",
    "\n",
    "network = \"45.119.135.39/30\"\n",
    "ips = generate_ips_in_network(network)\n",
    "print(f\"IP addresses in {network}: {ips}\")\n"
   ]
  },
  {
   "cell_type": "markdown",
   "metadata": {},
   "source": [
    "# 5. Convert Integer to IPv4 Address\n",
    "This program converts an intger back to its corresponding IPv4 address."
   ]
  },
  {
   "cell_type": "code",
   "execution_count": 18,
   "metadata": {},
   "outputs": [
    {
     "name": "stdout",
     "output_type": "stream",
     "text": [
      "Integer: 762808103: -> IPv4: 45.119.135.39\n"
     ]
    }
   ],
   "source": [
    "import ipaddress \n",
    "\n",
    "def int_to_ipv4(integer):\n",
    "    try:\n",
    "        return str(ipaddress.IPv4Address(integer))\n",
    "    except ValueError:\n",
    "        return None\n",
    "\n",
    "ipv4_int = 762808103\n",
    "print(f\"Integer: {ipv4_int}: -> IPv4: {int_to_ipv4(ipv4_int)}\")"
   ]
  }
 ],
 "metadata": {
  "kernelspec": {
   "display_name": "myenv",
   "language": "python",
   "name": "myenv"
  },
  "language_info": {
   "codemirror_mode": {
    "name": "ipython",
    "version": 3
   },
   "file_extension": ".py",
   "mimetype": "text/x-python",
   "name": "python",
   "nbconvert_exporter": "python",
   "pygments_lexer": "ipython3",
   "version": "3.12.1"
  }
 },
 "nbformat": 4,
 "nbformat_minor": 2
}
