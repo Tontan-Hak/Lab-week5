{
 "cells": [
  {
   "cell_type": "markdown",
   "metadata": {},
   "source": [
    "# Decision Control Instructions in Python "
   ]
  },
  {
   "cell_type": "markdown",
   "metadata": {},
   "source": [
    "## Example 1: If Statement"
   ]
  },
  {
   "cell_type": "code",
   "execution_count": 1,
   "metadata": {},
   "outputs": [
    {
     "name": "stdout",
     "output_type": "stream",
     "text": [
      "x is greater then 5\n"
     ]
    }
   ],
   "source": [
    "# Simple if statement\n",
    "x = 10 \n",
    "\n",
    "if x > 5 : \n",
    "    print(\"x is greater then 5\")"
   ]
  },
  {
   "cell_type": "markdown",
   "metadata": {},
   "source": [
    "## Example 2: if-else Stetement"
   ]
  },
  {
   "cell_type": "code",
   "execution_count": 2,
   "metadata": {},
   "outputs": [
    {
     "name": "stdout",
     "output_type": "stream",
     "text": [
      "y is odd\n"
     ]
    }
   ],
   "source": [
    "# if-else statement\n",
    "y =3 \n",
    "\n",
    "if y % 2 == 0:\n",
    "    print(\"y is even\") \n",
    "else:\n",
    "    print(\"y is odd\")"
   ]
  },
  {
   "cell_type": "markdown",
   "metadata": {},
   "source": [
    "# Example 3: if-elif-else Statement"
   ]
  },
  {
   "cell_type": "code",
   "execution_count": 4,
   "metadata": {},
   "outputs": [
    {
     "name": "stdout",
     "output_type": "stream",
     "text": [
      "C\n"
     ]
    }
   ],
   "source": [
    "# if-elif-else statement\n",
    "grade = 75 \n",
    "\n",
    "if grade >= 90:\n",
    "    print(\"A\") \n",
    "elif grade >= 80:\n",
    "    print(\"B\")\n",
    "elif grade >= 70:\n",
    "    print(\"C\")\n",
    "else:\n",
    "    print(\"F\")"
   ]
  },
  {
   "cell_type": "markdown",
   "metadata": {},
   "source": [
    "# Example 4: Nested if Statements"
   ]
  },
  {
   "cell_type": "code",
   "execution_count": 5,
   "metadata": {},
   "outputs": [
    {
     "name": "stdout",
     "output_type": "stream",
     "text": [
      "You are an adult.\n",
      "You can also drink.\n"
     ]
    }
   ],
   "source": [
    "# Nested if statements \n",
    "age = 25 \n",
    "\n",
    "if age >= 18: \n",
    "    print(\"You are an adult.\") \n",
    "    if age >= 21:\n",
    "        print(\"You can also drink.\") \n",
    "else: \n",
    "    print(\"You are a minor.\")"
   ]
  },
  {
   "cell_type": "markdown",
   "metadata": {},
   "source": [
    "# Example 5: Using Logistical Operators"
   ]
  },
  {
   "cell_type": "code",
   "execution_count": 6,
   "metadata": {},
   "outputs": [
    {
     "name": "stdout",
     "output_type": "stream",
     "text": [
      "It's a warn day.\n"
     ]
    }
   ],
   "source": [
    "# Using Logical operations (and, or , not)\n",
    "temperature = 25 \n",
    "is_summer = True\n",
    "\n",
    "if temperature > 30 and is_summer:\n",
    "    print(\"It's a hot day!\")\n",
    "elif temperature > 25 or is_summer: \n",
    "    print(\"It's a warn day.\")\n",
    "else:\n",
    "    print(\"It's a cool day.\")"
   ]
  },
  {
   "cell_type": "markdown",
   "metadata": {},
   "source": [
    "# Example 6: Ternary Operator"
   ]
  },
  {
   "cell_type": "code",
   "execution_count": 7,
   "metadata": {},
   "outputs": [
    {
     "name": "stdout",
     "output_type": "stream",
     "text": [
      "The maximum value is: 10\n"
     ]
    }
   ],
   "source": [
    "# Ternary operator for concise if-else\n",
    "a = 5\n",
    "b = 10\n",
    "\n",
    "max_value = a if a > b else b\n",
    "print(f\"The maximum value is: {max_value}\")"
   ]
  }
 ],
 "metadata": {
  "kernelspec": {
   "display_name": "myenv",
   "language": "python",
   "name": "myenv"
  },
  "language_info": {
   "codemirror_mode": {
    "name": "ipython",
    "version": 3
   },
   "file_extension": ".py",
   "mimetype": "text/x-python",
   "name": "python",
   "nbconvert_exporter": "python",
   "pygments_lexer": "ipython3",
   "version": "3.12.1"
  }
 },
 "nbformat": 4,
 "nbformat_minor": 2
}
