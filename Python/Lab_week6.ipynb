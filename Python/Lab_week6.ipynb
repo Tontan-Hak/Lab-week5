{
 "cells": [
  {
   "cell_type": "code",
   "execution_count": null,
   "metadata": {},
   "outputs": [],
   "source": [
    "#Q1. Pls state the results of the following expressions with the use of IDLE and explain the principles behind how the results are obtained.\n",
    "#>>> ord(“X\")\n",
    "#>>> “X\" < \"\\n\""
   ]
  },
  {
   "cell_type": "code",
   "execution_count": null,
   "metadata": {},
   "outputs": [],
   "source": [
    "#Answer\n",
    "#The execution of ord(\"X\") is get the value of the character X in terms of its ASCII value. Python gives us a value of 88 which is its ASCII representation in decimal.For the 2nd statement, a new line character has an ASCII representation of decimal 10; so 88 is not less than 10; and Python prints a boolean value of false."
   ]
  },
  {
   "cell_type": "markdown",
   "metadata": {},
   "source": [
    "Q2. Pls arrange the following strings of characters in lexical order and justify your results.\n",
    "xxx\n",
    "abc\n",
    "xyz\n",
    "def\n",
    "baaa\n",
    "bb\n",
    "ca\n",
    "ceee\n",
    "da\n",
    "www"
   ]
  },
  {
   "cell_type": "code",
   "execution_count": null,
   "metadata": {},
   "outputs": [],
   "source": [
    "#Q2. Pls arrange the following strings of characters in lexical order and justify your results.\n",
    "#xxx\n",
    "#abc\n",
    "#xyz\n",
    "#def\n",
    "#baaa\n",
    "#bb\n",
    "#ca\n",
    "#ceee\n",
    "#da\n",
    "#www"
   ]
  },
  {
   "cell_type": "code",
   "execution_count": null,
   "metadata": {},
   "outputs": [],
   "source": [
    "#Answer\n",
    "#Lexical order means arrange the terms in alphabetical order. As for the computer, we are asking it to compare the terms using their ASCII values. As such, it is actually comparing a string of numbers and arrange them in ascending order. \n",
    "#abc\n",
    "#baaa\n",
    "#bb\n",
    "#ca\n",
    "#ceee\n",
    "#da\n",
    "#def\n",
    "#www\n",
    "#xyz"
   ]
  },
  {
   "cell_type": "markdown",
   "metadata": {},
   "source": [
    "Q3. Pete at Pete’s Petting Zoo wants a program to work out what to charge groups of visitors to his children’s zoo. An adult’s ticket costs $10, a child’s ticket cost $5.\n",
    "Write a program that asks the user to enter the number of adults and the number of children in the group and displays to screen the total cost. \n",
    "Pls attach a screen dump of your program and its output."
   ]
  },
  {
   "cell_type": "code",
   "execution_count": 1,
   "metadata": {},
   "outputs": [],
   "source": [
    "adult = int(input(\"Number of adult  \"))\n",
    "children = int(input(\"Number of child \"))\n",
    "cost = (adult * 10) + (children * 5)\n",
    "print(\"Number of adult tickets: \", adult)\n",
    "print(\"Number of child tickets: \", children)\n",
    "print(\"The total cost is: \", cost)"
   ]
  },
  {
   "cell_type": "code",
   "execution_count": null,
   "metadata": {},
   "outputs": [],
   "source": []
  }
 ],
 "metadata": {
  "interpreter": {
   "hash": "21976bedb27beba90465fbbe4d97e4d7c24702e9c13d80522fc2b3f456f7bbe9"
  },
  "kernelspec": {
   "display_name": "Python 3.10.0b1 64-bit",
   "language": "python",
   "name": "python3"
  },
  "language_info": {
   "codemirror_mode": {
    "name": "ipython",
    "version": 3
   },
   "file_extension": ".py",
   "mimetype": "text/x-python",
   "name": "python",
   "nbconvert_exporter": "python",
   "pygments_lexer": "ipython3",
   "version": "3.10.0b1"
  },
  "orig_nbformat": 4
 },
 "nbformat": 4,
 "nbformat_minor": 2
}
