{
 "cells": [
  {
   "cell_type": "markdown",
   "metadata": {},
   "source": [
    "## Displaying LaTeX Mathematical Expressions in Python Using SymPy and IPython\n",
    "### Quadratic Equation"
   ]
  },
  {
   "cell_type": "code",
   "execution_count": 2,
   "metadata": {},
   "outputs": [
    {
     "data": {
      "text/latex": [
       "$\\displaystyle X^{2} + 2 X + 1 = 0$"
      ],
      "text/plain": [
       "<IPython.core.display.Math object>"
      ]
     },
     "metadata": {},
     "output_type": "display_data"
    }
   ],
   "source": [
    "from IPython.display import display, Math \n",
    "import sympy as sp \n",
    "\n",
    "x = sp.Symbol('X')\n",
    "\n",
    "# Define the quadratic equation \n",
    "equation = sp.Eq(x**2 + 2*x +1, 0)\n",
    "latex_equation = sp.latex(equation)\n",
    "\n",
    "# Display the equation \n",
    "display(Math(latex_equation))"
   ]
  },
  {
   "cell_type": "markdown",
   "metadata": {},
   "source": [
    "### Pthonagorean Theorem"
   ]
  },
  {
   "cell_type": "code",
   "execution_count": 5,
   "metadata": {},
   "outputs": [
    {
     "data": {
      "text/latex": [
       "$\\displaystyle a^{2} + b^{2} = c^{2}$"
      ],
      "text/plain": [
       "<IPython.core.display.Math object>"
      ]
     },
     "metadata": {},
     "output_type": "display_data"
    }
   ],
   "source": [
    "from IPython.display import display, Math \n",
    "import sympy as sp \n",
    "\n",
    "a, b, c = sp.symbols('a b c')\n",
    "\n",
    "# Define the Pythonagorean \n",
    "equation = sp.Eq(a**2 + b**2 , c**2)\n",
    "latex_equation = sp.latex(equation)\n",
    "\n",
    "# Display the equation \n",
    "display(Math(latex_equation))"
   ]
  },
  {
   "cell_type": "markdown",
   "metadata": {},
   "source": [
    "### Derivative of a Function"
   ]
  },
  {
   "cell_type": "code",
   "execution_count": 6,
   "metadata": {},
   "outputs": [
    {
     "data": {
      "text/latex": [
       "$\\displaystyle \\frac{d}{d X} f{\\left(X \\right)}$"
      ],
      "text/plain": [
       "<IPython.core.display.Math object>"
      ]
     },
     "metadata": {},
     "output_type": "display_data"
    }
   ],
   "source": [
    "from IPython.display import display, Math \n",
    "import sympy as sp \n",
    "\n",
    "x = sp.Symbol('X')\n",
    "f = sp.Function('f')(x)\n",
    "\n",
    "# Define the derivative of a function\n",
    "derivative = sp.Derivative(f,x)\n",
    "latex_derivative = sp.latex(derivative)\n",
    "\n",
    "# Display the derivative\n",
    "display(Math(latex_derivative))"
   ]
  },
  {
   "cell_type": "markdown",
   "metadata": {},
   "source": [
    "### Integral of a Function"
   ]
  },
  {
   "cell_type": "code",
   "execution_count": 8,
   "metadata": {},
   "outputs": [
    {
     "data": {
      "text/latex": [
       "$\\displaystyle \\int \\sin{\\left(X \\right)}\\, dX$"
      ],
      "text/plain": [
       "<IPython.core.display.Math object>"
      ]
     },
     "metadata": {},
     "output_type": "display_data"
    }
   ],
   "source": [
    "from IPython.display import display, Math \n",
    "import sympy as sp \n",
    "\n",
    "x = sp.Symbol('X')\n",
    "\n",
    "# Define the integral of a function\n",
    "integral = sp.Integral(sp.sin(x), x)\n",
    "latex_integral = sp.latex(integral)\n",
    "\n",
    "# Display the equation \n",
    "display(Math(latex_integral))"
   ]
  },
  {
   "cell_type": "markdown",
   "metadata": {},
   "source": [
    "### Trigonometric Equations using Python"
   ]
  },
  {
   "cell_type": "code",
   "execution_count": 10,
   "metadata": {},
   "outputs": [
    {
     "data": {
      "text/latex": [
       "$\\displaystyle \\sin^{2}{\\left(x \\right)} + \\cos^{2}{\\left(x \\right)} = 1$"
      ],
      "text/plain": [
       "<IPython.core.display.Math object>"
      ]
     },
     "metadata": {},
     "output_type": "display_data"
    }
   ],
   "source": [
    "from IPython.display import display, Math \n",
    "import sympy as sp \n",
    "\n",
    "x = sp.Symbol('x')\n",
    "\n",
    "# Define the Trigonometric Equations\n",
    "equation = sp.Eq(sp.sin(x)**2 + sp.cos(x)**2, 1)\n",
    "latex_equation = sp.latex(equation)\n",
    "\n",
    "# Display the equation \n",
    "display(Math(latex_equation))"
   ]
  }
 ],
 "metadata": {
  "kernelspec": {
   "display_name": "myenv",
   "language": "python",
   "name": "myenv"
  },
  "language_info": {
   "codemirror_mode": {
    "name": "ipython",
    "version": 3
   },
   "file_extension": ".py",
   "mimetype": "text/x-python",
   "name": "python",
   "nbconvert_exporter": "python",
   "pygments_lexer": "ipython3",
   "version": "3.12.1"
  }
 },
 "nbformat": 4,
 "nbformat_minor": 2
}
