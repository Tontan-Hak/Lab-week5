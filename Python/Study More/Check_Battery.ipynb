{
 "cells": [
  {
   "cell_type": "markdown",
   "metadata": {},
   "source": [
    "# Check Battery status using Python"
   ]
  },
  {
   "cell_type": "code",
   "execution_count": 2,
   "metadata": {},
   "outputs": [
    {
     "name": "stdout",
     "output_type": "stream",
     "text": [
      "Battery Percentage: 99 %\n",
      "Power pllugged in: True\n",
      "Batter remaining time:  -1:59:58\n"
     ]
    }
   ],
   "source": [
    "import psutil \n",
    "\n",
    "battery = psutil.sensors_battery()\n",
    "\n",
    "if battery is not None:\n",
    "    print(\"Battery Percentage:\", battery.percent, \"%\")\n",
    "    print(\"Power pllugged in:\", battery.power_plugged)\n",
    "    def convertTime(seconds):\n",
    "        minutes, seconds = divmod(seconds, 60)\n",
    "        hours, minutes = divmod(minutes, 60)\n",
    "        return \"%d:%02d:%02d\" % (hours, minutes, seconds)\n",
    "    print (\"Batter remaining time: \" , convertTime(battery.secsleft))\n",
    "else:\n",
    "    print(\"No battery information available.\")"
   ]
  }
 ],
 "metadata": {
  "kernelspec": {
   "display_name": "myenv",
   "language": "python",
   "name": "myenv"
  },
  "language_info": {
   "codemirror_mode": {
    "name": "ipython",
    "version": 3
   },
   "file_extension": ".py",
   "mimetype": "text/x-python",
   "name": "python",
   "nbconvert_exporter": "python",
   "pygments_lexer": "ipython3",
   "version": "3.12.1"
  }
 },
 "nbformat": 4,
 "nbformat_minor": 2
}
