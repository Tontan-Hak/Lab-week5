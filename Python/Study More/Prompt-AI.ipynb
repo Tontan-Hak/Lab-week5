{
 "cells": [
  {
   "cell_type": "markdown",
   "metadata": {},
   "source": [
    "# Prompting an LLM in code\n",
    "Instructions:\n",
    "\n",
    "1. For each of the two code cells below, click on the cell then hit Shift+Enter on your keyboard to run the code (or if on a mobile device, press 'play' button).\n",
    "2. Optionally edit the prompt, and try again!\n",
    "\n",
    "Code cell 1: Set up programming environment to use code to send prompts to OpenAI's cloud-hosted service"
   ]
  },
  {
   "cell_type": "code",
   "execution_count": 3,
   "metadata": {},
   "outputs": [],
   "source": [
    "import openai\n",
    "import os\n",
    "\n",
    "openai.api_key = os.getenv(\"OPENAI_API_KEY\")\n",
    "\n",
    "def llm_response(prompt):\n",
    "    response = openai.ChatCompletion.create(\n",
    "        model='gpt-3.5-turbo',\n",
    "        messages=[{'role':'user','content':prompt}],\n",
    "        temperature=0\n",
    "    )\n",
    "    return response.choices[0].message['content']"
   ]
  },
  {
   "cell_type": "markdown",
   "metadata": {},
   "source": [
    "Code cell 2: Define a prompt that will classify the sentiment of a restaurant review."
   ]
  },
  {
   "cell_type": "code",
   "execution_count": null,
   "metadata": {},
   "outputs": [],
   "source": [
    "prompt = '''\n",
    "    Classify the following review \n",
    "    as having either a positive or\n",
    "    negative sentiment:\n",
    "\n",
    "    The banana pudding was really tasty!\n",
    "'''\n",
    "\n",
    "response = llm_response(prompt)\n",
    "print(response)"
   ]
  },
  {
   "cell_type": "code",
   "execution_count": 6,
   "metadata": {},
   "outputs": [],
   "source": [
    "openai.api_key = os.getenv(\"OPENAI_API_KEY\")\n",
    "\n",
    "def llm_response(prompt):\n",
    "    response = openai.ChatCompletion.create(\n",
    "        model='gpt-3.5-turbo',\n",
    "        messages=[{'role':'user','content':prompt}],\n",
    "        temperature=0\n",
    "    )\n",
    "    return response.choices[0].message['content']"
   ]
  },
  {
   "cell_type": "code",
   "execution_count": 7,
   "metadata": {},
   "outputs": [
    {
     "data": {
      "text/plain": [
       "['The mochi is excellent!',\n",
       " 'Best soup dumplings I have ever eaten.',\n",
       " 'Not worth the 3 month wait for a reservation.',\n",
       " 'The colorful tablecloths made me smile!',\n",
       " 'The pasta was cold.']"
      ]
     },
     "execution_count": 7,
     "metadata": {},
     "output_type": "execute_result"
    }
   ],
   "source": [
    "all_reviews = [\n",
    "    'The mochi is excellent!',\n",
    "    'Best soup dumplings I have ever eaten.',\n",
    "    'Not worth the 3 month wait for a reservation.',\n",
    "    'The colorful tablecloths made me smile!',\n",
    "    'The pasta was cold.'\n",
    "]\n",
    "\n",
    "all_reviews"
   ]
  },
  {
   "cell_type": "code",
   "execution_count": null,
   "metadata": {},
   "outputs": [],
   "source": [
    "all_sentiments = []\n",
    "for review in all_reviews:\n",
    "    prompt = f'''\n",
    "        Classify the following review \n",
    "        as having either a positive or\n",
    "        negative sentiment. State your answer\n",
    "        as a single word, either \"positive\" or\n",
    "        \"negative\":\n",
    "\n",
    "        {review}\n",
    "        '''\n",
    "    response = llm_response(prompt)\n",
    "    all_sentiments.append(response)\n",
    "\n",
    "all_sentiments"
   ]
  },
  {
   "cell_type": "code",
   "execution_count": 12,
   "metadata": {},
   "outputs": [
    {
     "name": "stdout",
     "output_type": "stream",
     "text": [
      "There are 0 positive and 0 negative reviews.\n"
     ]
    }
   ],
   "source": [
    "num_positive = 0\n",
    "num_negative = 0\n",
    "for sentiment in all_sentiments:\n",
    "    if sentiment == 'positive':\n",
    "        num_positive += 1\n",
    "    elif sentiment == 'negative':\n",
    "        num_negative += 1\n",
    "print(f\"There are {num_positive} positive and {num_negative} negative reviews.\")"
   ]
  }
 ],
 "metadata": {
  "kernelspec": {
   "display_name": "myenv",
   "language": "python",
   "name": "myenv"
  },
  "language_info": {
   "codemirror_mode": {
    "name": "ipython",
    "version": 3
   },
   "file_extension": ".py",
   "mimetype": "text/x-python",
   "name": "python",
   "nbconvert_exporter": "python",
   "pygments_lexer": "ipython3",
   "version": "3.12.1"
  }
 },
 "nbformat": 4,
 "nbformat_minor": 2
}
