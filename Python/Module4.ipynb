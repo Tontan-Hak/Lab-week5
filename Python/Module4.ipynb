{
 "cells": [
  {
   "cell_type": "markdown",
   "metadata": {},
   "source": [
    "## We will learn about String, list and Dictionary"
   ]
  },
  {
   "cell_type": "code",
   "execution_count": 2,
   "metadata": {},
   "outputs": [
    {
     "name": "stdout",
     "output_type": "stream",
     "text": [
      "Name: Sasha, Favorite color: Gold\n"
     ]
    }
   ],
   "source": [
    "name = \"Sasha\"\n",
    "color = 'Gold'\n",
    "print(\"Name: \" + name + \", Favorite color: \" + color)"
   ]
  },
  {
   "cell_type": "code",
   "execution_count": 3,
   "metadata": {},
   "outputs": [
    {
     "data": {
      "text/plain": [
       "'exampleexampleexample'"
      ]
     },
     "execution_count": 3,
     "metadata": {},
     "output_type": "execute_result"
    }
   ],
   "source": [
    "\"example\" * 3"
   ]
  },
  {
   "cell_type": "code",
   "execution_count": 4,
   "metadata": {},
   "outputs": [
    {
     "data": {
      "text/plain": [
       "38"
      ]
     },
     "execution_count": 4,
     "metadata": {},
     "output_type": "execute_result"
    }
   ],
   "source": [
    "pet = \"loooooooooooooooooooooooooooooooog cat\"\n",
    "len(pet)"
   ]
  },
  {
   "cell_type": "code",
   "execution_count": 5,
   "metadata": {},
   "outputs": [
    {
     "name": "stdout",
     "output_type": "stream",
     "text": [
      "a\n"
     ]
    }
   ],
   "source": [
    "name = \"Jaylen\"\n",
    "print(name[1])"
   ]
  },
  {
   "cell_type": "code",
   "execution_count": 6,
   "metadata": {},
   "outputs": [
    {
     "name": "stdout",
     "output_type": "stream",
     "text": [
      "J\n"
     ]
    }
   ],
   "source": [
    "name = \"Jaylen\"\n",
    "print(name[0])"
   ]
  },
  {
   "cell_type": "code",
   "execution_count": 8,
   "metadata": {},
   "outputs": [
    {
     "name": "stdout",
     "output_type": "stream",
     "text": [
      "n\n",
      "l\n"
     ]
    }
   ],
   "source": [
    "name = \"Jaylen\"\n",
    "print(name[5])\n",
    "print(name[3])"
   ]
  },
  {
   "cell_type": "code",
   "execution_count": 9,
   "metadata": {},
   "outputs": [
    {
     "name": "stdout",
     "output_type": "stream",
     "text": [
      "s\n",
      "r\n"
     ]
    }
   ],
   "source": [
    "text = \"Random string with a lot of characters\"\n",
    "print(text[-1])\n",
    "print(text[-2])"
   ]
  },
  {
   "cell_type": "code",
   "execution_count": 10,
   "metadata": {},
   "outputs": [
    {
     "data": {
      "text/plain": [
       "'ran'"
      ]
     },
     "execution_count": 10,
     "metadata": {},
     "output_type": "execute_result"
    }
   ],
   "source": [
    "color = \"Orange\"\n",
    "color[1:4]"
   ]
  },
  {
   "cell_type": "code",
   "execution_count": 11,
   "metadata": {},
   "outputs": [
    {
     "name": "stdout",
     "output_type": "stream",
     "text": [
      "Pine\n",
      "apple\n"
     ]
    }
   ],
   "source": [
    "fruit = \"Pineapple\"\n",
    "print(fruit[:4])\n",
    "print(fruit[4:])"
   ]
  },
  {
   "cell_type": "code",
   "execution_count": 1,
   "metadata": {},
   "outputs": [
    {
     "data": {
      "text/plain": [
       "'ang'"
      ]
     },
     "execution_count": 1,
     "metadata": {},
     "output_type": "execute_result"
    }
   ],
   "source": [
    "fruit = \"Mangosteen\"\n",
    "fruit[1:4]"
   ]
  },
  {
   "cell_type": "code",
   "execution_count": 2,
   "metadata": {},
   "outputs": [
    {
     "data": {
      "text/plain": [
       "'Mangosteen'"
      ]
     },
     "execution_count": 2,
     "metadata": {},
     "output_type": "execute_result"
    }
   ],
   "source": [
    "fruit[:5] + fruit[5:]"
   ]
  },
  {
   "cell_type": "code",
   "execution_count": 4,
   "metadata": {},
   "outputs": [
    {
     "data": {
      "text/plain": [
       "1"
      ]
     },
     "execution_count": 4,
     "metadata": {},
     "output_type": "execute_result"
    }
   ],
   "source": [
    "\"system\".index(\"y\")"
   ]
  },
  {
   "cell_type": "code",
   "execution_count": 5,
   "metadata": {},
   "outputs": [
    {
     "name": "stdout",
     "output_type": "stream",
     "text": [
      "A long string with a silly typo\n"
     ]
    }
   ],
   "source": [
    "message = \"A kong string with a silly typo\"\n",
    "new_message = message[0:2] + \"l\" + message[3:]\n",
    "print(new_message)"
   ]
  },
  {
   "cell_type": "code",
   "execution_count": 6,
   "metadata": {},
   "outputs": [
    {
     "name": "stdout",
     "output_type": "stream",
     "text": [
      "This is a new message\n",
      "And another one\n"
     ]
    }
   ],
   "source": [
    "message = \"This is a new message\"\n",
    "print(message)\n",
    "message = \"And another one\"\n",
    "print(message)"
   ]
  },
  {
   "cell_type": "code",
   "execution_count": 7,
   "metadata": {},
   "outputs": [
    {
     "data": {
      "text/plain": [
       "3"
      ]
     },
     "execution_count": 7,
     "metadata": {},
     "output_type": "execute_result"
    }
   ],
   "source": [
    "pets=\"Cats & Dogs\"\n",
    "pets.index(\"&\")\n",
    "pets.index(\"C\")\n",
    "pets.index(\"Dog\")\n",
    "pets.index(\"s\")"
   ]
  },
  {
   "cell_type": "code",
   "execution_count": 8,
   "metadata": {},
   "outputs": [
    {
     "data": {
      "text/plain": [
       "True"
      ]
     },
     "execution_count": 8,
     "metadata": {},
     "output_type": "execute_result"
    }
   ],
   "source": [
    "pets=\"Cats & Dogs\"\n",
    "\"Dragons\" in pets\n",
    "\"Cats\" in pets"
   ]
  },
  {
   "cell_type": "code",
   "execution_count": 9,
   "metadata": {},
   "outputs": [
    {
     "name": "stdout",
     "output_type": "stream",
     "text": [
      "21\n"
     ]
    }
   ],
   "source": [
    "word = \"supercalifragilisticexpialidocious\"\n",
    "print(word.index(\"x\"))"
   ]
  },
  {
   "cell_type": "code",
   "execution_count": 10,
   "metadata": {},
   "outputs": [],
   "source": [
    "def replace_domain(email, old_domain, new_domain):\n",
    "    if \"@\" + old_domain in email:\n",
    "        index = email.index(\"@\" + old_domain)\n",
    "        new_email = email[:index] + \"@\" + new_domain\n",
    "        return new_email\n",
    "    return email"
   ]
  },
  {
   "cell_type": "code",
   "execution_count": 11,
   "metadata": {},
   "outputs": [
    {
     "data": {
      "text/plain": [
       "8"
      ]
     },
     "execution_count": 11,
     "metadata": {},
     "output_type": "execute_result"
    }
   ],
   "source": [
    "animals = \"lions tigers and bears\"\n",
    "animals.index(\"g\")"
   ]
  },
  {
   "cell_type": "code",
   "execution_count": 12,
   "metadata": {},
   "outputs": [
    {
     "data": {
      "text/plain": [
       "17"
      ]
     },
     "execution_count": 12,
     "metadata": {},
     "output_type": "execute_result"
    }
   ],
   "source": [
    "animals = \"lions tigers and bears\"\n",
    "animals.index(\"bears\")"
   ]
  },
  {
   "cell_type": "code",
   "execution_count": 13,
   "metadata": {},
   "outputs": [
    {
     "data": {
      "text/plain": [
       "False"
      ]
     },
     "execution_count": 13,
     "metadata": {},
     "output_type": "execute_result"
    }
   ],
   "source": [
    "animals = \"lions tigers and bears\"\n",
    "\"horses\" in animals"
   ]
  },
  {
   "cell_type": "code",
   "execution_count": 14,
   "metadata": {},
   "outputs": [
    {
     "data": {
      "text/plain": [
       "True"
      ]
     },
     "execution_count": 14,
     "metadata": {},
     "output_type": "execute_result"
    }
   ],
   "source": [
    "animals = \"lions tigers and bears\"\n",
    "\"tigers\" in animals"
   ]
  },
  {
   "cell_type": "code",
   "execution_count": 15,
   "metadata": {},
   "outputs": [
    {
     "data": {
      "text/plain": [
       "'mountains'"
      ]
     },
     "execution_count": 15,
     "metadata": {},
     "output_type": "execute_result"
    }
   ],
   "source": [
    "\"Mountains\".upper()\n",
    "\"Mountains\".lower()"
   ]
  },
  {
   "cell_type": "code",
   "execution_count": 16,
   "metadata": {},
   "outputs": [
    {
     "name": "stdout",
     "output_type": "stream",
     "text": [
      "User said yes\n"
     ]
    }
   ],
   "source": [
    "answer = \"YES\"\n",
    "if answer.lower() == \"yes\":\n",
    "    print(\"User said yes\")"
   ]
  },
  {
   "cell_type": "code",
   "execution_count": 17,
   "metadata": {},
   "outputs": [
    {
     "data": {
      "text/plain": [
       "'yes'"
      ]
     },
     "execution_count": 17,
     "metadata": {},
     "output_type": "execute_result"
    }
   ],
   "source": [
    "\" yes \".strip()"
   ]
  },
  {
   "cell_type": "code",
   "execution_count": 18,
   "metadata": {},
   "outputs": [
    {
     "data": {
      "text/plain": [
       "' yes'"
      ]
     },
     "execution_count": 18,
     "metadata": {},
     "output_type": "execute_result"
    }
   ],
   "source": [
    "\" yes \".strip()\n",
    "\" yes \".lstrip()\n",
    "\" yes \".rstrip()"
   ]
  },
  {
   "cell_type": "code",
   "execution_count": 19,
   "metadata": {},
   "outputs": [
    {
     "data": {
      "text/plain": [
       "4"
      ]
     },
     "execution_count": 19,
     "metadata": {},
     "output_type": "execute_result"
    }
   ],
   "source": [
    "\"The number of times e occurs in this string is 4\".count(\"e\")"
   ]
  },
  {
   "cell_type": "code",
   "execution_count": 20,
   "metadata": {},
   "outputs": [
    {
     "data": {
      "text/plain": [
       "True"
      ]
     },
     "execution_count": 20,
     "metadata": {},
     "output_type": "execute_result"
    }
   ],
   "source": [
    "\"Forest\".endswith(\"rest\")"
   ]
  },
  {
   "cell_type": "code",
   "execution_count": 21,
   "metadata": {},
   "outputs": [
    {
     "data": {
      "text/plain": [
       "True"
      ]
     },
     "execution_count": 21,
     "metadata": {},
     "output_type": "execute_result"
    }
   ],
   "source": [
    "\"Forest\".isnumeric()\n",
    "\"12345\".isnumeric()"
   ]
  },
  {
   "cell_type": "code",
   "execution_count": 22,
   "metadata": {},
   "outputs": [
    {
     "data": {
      "text/plain": [
       "66666"
      ]
     },
     "execution_count": 22,
     "metadata": {},
     "output_type": "execute_result"
    }
   ],
   "source": [
    "int(\"12345\") + int(\"54321\")"
   ]
  },
  {
   "cell_type": "code",
   "execution_count": 23,
   "metadata": {},
   "outputs": [
    {
     "data": {
      "text/plain": [
       "'This...is...a...phrase...joined...by...triple...dots'"
      ]
     },
     "execution_count": 23,
     "metadata": {},
     "output_type": "execute_result"
    }
   ],
   "source": [
    "\" \".join([\"This\", \"is\", \"a\", \"phrase\", \"joined\", \"by\", \"spaces\"])\n",
    "\"...\".join([\"This\", \"is\", \"a\", \"phrase\", \"joined\", \"by\", \"triple\", \"dots\"])"
   ]
  },
  {
   "cell_type": "code",
   "execution_count": 24,
   "metadata": {},
   "outputs": [
    {
     "data": {
      "text/plain": [
       "['This', 'is', 'another', 'example']"
      ]
     },
     "execution_count": 24,
     "metadata": {},
     "output_type": "execute_result"
    }
   ],
   "source": [
    "\"This is another example\".split()"
   ]
  },
  {
   "cell_type": "code",
   "execution_count": 25,
   "metadata": {},
   "outputs": [
    {
     "name": "stdout",
     "output_type": "stream",
     "text": [
      "Hello Manny, your lucky number is 15\n"
     ]
    }
   ],
   "source": [
    "name = \"Manny\"\n",
    "number = len(name) * 3\n",
    "print(\"Hello {}, your lucky number is {}\".format(name, number))"
   ]
  },
  {
   "cell_type": "code",
   "execution_count": 26,
   "metadata": {},
   "outputs": [
    {
     "name": "stdout",
     "output_type": "stream",
     "text": [
      "Your lucky number is 15, Manny.\n"
     ]
    }
   ],
   "source": [
    "name = \"Manny\"\n",
    "print(\"Your lucky number is {number}, {name}.\".format(name=name, number=len(name)*3))"
   ]
  },
  {
   "cell_type": "code",
   "execution_count": 27,
   "metadata": {},
   "outputs": [
    {
     "name": "stdout",
     "output_type": "stream",
     "text": [
      "7.5 8.175\n",
      "Base price: $7.50. With Tax: $8.18\n"
     ]
    }
   ],
   "source": [
    "price = 7.5\n",
    "with_tax = price * 1.09\n",
    "print(price, with_tax)\n",
    "print(\"Base price: ${:.2f}. With Tax: ${:.2f}\".format(price, with_tax))"
   ]
  },
  {
   "cell_type": "code",
   "execution_count": 28,
   "metadata": {},
   "outputs": [
    {
     "name": "stdout",
     "output_type": "stream",
     "text": [
      "  0 F | -17.78 C\n",
      " 10 F | -12.22 C\n",
      " 20 F |  -6.67 C\n",
      " 30 F |  -1.11 C\n",
      " 40 F |   4.44 C\n",
      " 50 F |  10.00 C\n",
      " 60 F |  15.56 C\n",
      " 70 F |  21.11 C\n",
      " 80 F |  26.67 C\n",
      " 90 F |  32.22 C\n",
      "100 F |  37.78 C\n"
     ]
    }
   ],
   "source": [
    "def to_celsius(x):\n",
    "    return (x-32)*5/9\n",
    "\n",
    "for x in range(0,101,10):\n",
    "    print(\"{:>3} F | {:>6.2f} C\".format(x, to_celsius(x)))"
   ]
  },
  {
   "cell_type": "code",
   "execution_count": 29,
   "metadata": {},
   "outputs": [
    {
     "name": "stdout",
     "output_type": "stream",
     "text": [
      "Reed received 80% on the exam\n",
      "Paige received 92% on the exam\n",
      "Jesse received 85% on the exam\n"
     ]
    }
   ],
   "source": [
    "def student_grade(name, grade):\n",
    "\treturn \"{} received {}% on the exam\".format(name, grade)\n",
    "\n",
    "print(student_grade(\"Reed\", 80))\n",
    "print(student_grade(\"Paige\", 92))\n",
    "print(student_grade(\"Jesse\", 85))"
   ]
  }
 ],
 "metadata": {
  "kernelspec": {
   "display_name": "myenv",
   "language": "python",
   "name": "myenv"
  },
  "language_info": {
   "codemirror_mode": {
    "name": "ipython",
    "version": 3
   },
   "file_extension": ".py",
   "mimetype": "text/x-python",
   "name": "python",
   "nbconvert_exporter": "python",
   "pygments_lexer": "ipython3",
   "version": "3.12.1"
  }
 },
 "nbformat": 4,
 "nbformat_minor": 2
}
