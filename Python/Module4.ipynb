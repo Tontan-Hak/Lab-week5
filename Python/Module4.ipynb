{
 "cells": [
  {
   "cell_type": "markdown",
   "metadata": {},
   "source": [
    "## List, string and Dictionary"
   ]
  },
  {
   "cell_type": "code",
   "execution_count": 5,
   "metadata": {},
   "outputs": [
    {
     "name": "stdout",
     "output_type": "stream",
     "text": [
      "(1, 2, 3, 4)\n",
      "(1, 2, 3, 4)\n"
     ]
    }
   ],
   "source": [
    "# Convert a list to a tuple\n",
    "my_list = [1, 2, 3, 4]\n",
    "my_tuple = tuple(my_list)\n",
    "\n",
    "print(my_tuple)  # Outputs: (1, 2, 3, 4)\n",
    "\n",
    "# Remember that although parentheses are often used to define a tuple, \n",
    "# they're not always necessary. The following syntax is also valid:\n",
    "\n",
    "my_tuple = 1, 2, 3, 4\n",
    "print(my_tuple)  # Outputs: (1, 2, 3, 4)"
   ]
  },
  {
   "cell_type": "code",
   "execution_count": 6,
   "metadata": {},
   "outputs": [
    {
     "name": "stdout",
     "output_type": "stream",
     "text": [
      "(1, 2, ['x', 'b', 'c'])\n"
     ]
    }
   ],
   "source": [
    "# A tuple with a list as an element\n",
    "my_tuple = (1, 2, ['a', 'b', 'c'])\n",
    "\n",
    "# You can't change the tuple itself\n",
    "# my_tuple[0] = 3  # This would raise a TypeError\n",
    "\n",
    "# But you can modify the mutable elements within the tuple\n",
    "my_tuple[2][0] = 'x'  \n",
    "print(my_tuple)  # Outputs: (1, 2, ['x', 'b', 'c'])"
   ]
  },
  {
   "cell_type": "code",
   "execution_count": 7,
   "metadata": {},
   "outputs": [
    {
     "name": "stdout",
     "output_type": "stream",
     "text": [
      "(12, 8, 20, 5.0)\n"
     ]
    }
   ],
   "source": [
    "def calculate_numbers(a, b):\n",
    "    return a+b, a-b, a*b, a/b\n",
    "\n",
    "result = calculate_numbers(10, 2)\n",
    "print(result)  # Outputs: (12, 8, 20, 5.0)"
   ]
  },
  {
   "cell_type": "code",
   "execution_count": 8,
   "metadata": {},
   "outputs": [
    {
     "name": "stdout",
     "output_type": "stream",
     "text": [
      "12\n",
      "8\n"
     ]
    }
   ],
   "source": [
    "def calculate_numbers(a, b):\n",
    "    return a+b, a-b, a*b, a/b\n",
    "\n",
    "add_result, sub_result, mul_result, div_result = calculate_numbers(10, 2)\n",
    "print(add_result)  # Outputs: 12\n",
    "print(sub_result)  # Outputs: 8"
   ]
  },
  {
   "cell_type": "code",
   "execution_count": 9,
   "metadata": {},
   "outputs": [
    {
     "name": "stdout",
     "output_type": "stream",
     "text": [
      "['January 2024', 'May 2025', 'April 2024', 'August 2024', 'September 2025', 'December 2024']\n"
     ]
    }
   ],
   "source": [
    "years = [\"January 2023\", \"May 2025\", \"April 2023\", \"August 2024\", \"September 2025\", \"December 2023\"]\n",
    "updated_years = []\n",
    "for year in years:\n",
    "    if year.endswith(\"2023\"):\n",
    "        new = year.replace(\"2023\",\"2024\")\n",
    "        updated_years.append(new)\n",
    "    else:\n",
    "        updated_years.append(year)\n",
    "print(updated_years)"
   ]
  },
  {
   "cell_type": "code",
   "execution_count": 10,
   "metadata": {},
   "outputs": [
    {
     "name": "stdout",
     "output_type": "stream",
     "text": [
      "[4, 9]\n",
      "[1, 4, 9, 16, 25]\n",
      "[0, 1, 4, 9, 16, 25, 36, 49, 64, 81, 100]\n"
     ]
    }
   ],
   "source": [
    "def squares(start, end):\n",
    "    return [n*n for n in range(start,end+1)]\n",
    "print(squares(2, 3))  # Should print [4, 9]\n",
    "print(squares(1, 5))  # Should print [1, 4, 9, 16, 25]\n",
    "print(squares(0, 10)) # Should print [0, 1, 4, 9, 16, 25, 36, 49, 64, 81, 100]"
   ]
  },
  {
   "cell_type": "code",
   "execution_count": 11,
   "metadata": {},
   "outputs": [
    {
     "name": "stdout",
     "output_type": "stream",
     "text": [
      "['January 2024', 'May 2025', 'April 2024', 'August 2024', 'September 2025', 'December 2024']\n"
     ]
    }
   ],
   "source": [
    "years = [\"January 2023\", \"May 2025\", \"April 2023\", \"August 2024\", \"September 2025\", \"December 2023\"]\n",
    "updated_years = [year.replace(\"2023\",\"2024\") if year[-4:] == \"2023\" else year for year in years]\n",
    "print(updated_years)"
   ]
  },
  {
   "cell_type": "code",
   "execution_count": 12,
   "metadata": {},
   "outputs": [
    {
     "name": "stdout",
     "output_type": "stream",
     "text": [
      "one-1 two-2 three-3 four-4 five-5 \n"
     ]
    }
   ],
   "source": [
    "def change_string(given_string):\n",
    "    new_string = \"\"\n",
    "    new_list = given_string.split()\n",
    "    for element in new_list:\n",
    "        new_string += element[1:] + \"-\" + element[0] + \" \"\n",
    "    return new_string\n",
    "print(change_string(\"1one 2two 3three 4four 5five\")) # Should print \"one-1 two-2 three-3 four-4 five-5\"         "
   ]
  },
  {
   "cell_type": "code",
   "execution_count": 13,
   "metadata": {},
   "outputs": [
    {
     "name": "stdout",
     "output_type": "stream",
     "text": [
      "The Printers list includes: Color Printer, Black and White Printer, 3-D Printer\n"
     ]
    }
   ],
   "source": [
    "def list_elements(list_name, elements):\n",
    "    return \"The \" + list_name + \" list includes: \" + \", \".join(elements)\n",
    "print(list_elements(\"Printers\", [\"Color Printer\", \"Black and White Printer\", \"3-D Printer\"]))"
   ]
  },
  {
   "cell_type": "code",
   "execution_count": 14,
   "metadata": {},
   "outputs": [
    {
     "name": "stdout",
     "output_type": "stream",
     "text": [
      "[2, 3, 4, 5, 6]\n"
     ]
    }
   ],
   "source": [
    "def add_one(number):\n",
    "    return number + 1\n",
    "numbers = [1, 2, 3, 4, 5]\n",
    "result = map(add_one, numbers)\n",
    "print(list(result))"
   ]
  },
  {
   "cell_type": "code",
   "execution_count": 15,
   "metadata": {},
   "outputs": [
    {
     "name": "stdout",
     "output_type": "stream",
     "text": [
      "[('Alice', 25), ('Bob', 30), ('Charlie', 35)]\n"
     ]
    }
   ],
   "source": [
    "names = [\"Alice\", \"Bob\", \"Charlie\"]\n",
    "ages = [25, 30, 35]\n",
    "combined = zip(names, ages)\n",
    "print(list(combined))\n"
   ]
  },
  {
   "cell_type": "code",
   "execution_count": 16,
   "metadata": {},
   "outputs": [
    {
     "name": "stdout",
     "output_type": "stream",
     "text": [
      "['program.c', 'stdio.h', 'sample.h', 'a.out', 'math.h', 'hpp.out']\n"
     ]
    }
   ],
   "source": [
    "filenames = [\"program.c\", \"stdio.hpp\", \"sample.hpp\", \"a.out\", \"math.hpp\", \"hpp.out\"]\n",
    "new_filenames = [filename.replace('.hpp', '.h') if filename.endswith('.hpp') else filename for filename in filenames]\n",
    "print(new_filenames)"
   ]
  },
  {
   "cell_type": "code",
   "execution_count": 17,
   "metadata": {},
   "outputs": [
    {
     "name": "stdout",
     "output_type": "stream",
     "text": [
      "ellohay owhay reaay ouyay\n",
      "rogrammingpay niay ythonpay siay unfay\n"
     ]
    }
   ],
   "source": [
    "def pig_latin(text):\n",
    "    # Separate the text into words\n",
    "    words = text.split()\n",
    "    pig_latin_words = []\n",
    "    \n",
    "    for word in words:\n",
    "        # Create the pig latin word and add it to the list\n",
    "        pig_word = word[1:] + word[0] + 'ay'\n",
    "        pig_latin_words.append(pig_word)\n",
    "    \n",
    "    # Turn the list back into a phrase\n",
    "    return \" \".join(pig_latin_words)\n",
    "    \n",
    "print(pig_latin(\"hello how are you\")) # Should be \"ellohay owhay reaay ouyay\"\n",
    "print(pig_latin(\"programming in python is fun\")) # Should be \"rogrammingpay niay ythonpay siay unfay\"\n"
   ]
  },
  {
   "cell_type": "code",
   "execution_count": 18,
   "metadata": {},
   "outputs": [
    {
     "name": "stdout",
     "output_type": "stream",
     "text": [
      "['program.c', 'stdio.h', 'sample.h', 'a.out', 'math.h', 'hpp.out']\n"
     ]
    }
   ],
   "source": [
    "filenames = [\"program.c\", \"stdio.hpp\", \"sample.hpp\", \"a.out\", \"math.hpp\", \"hpp.out\"]\n",
    "# Generate new_filenames as a list containing the new filenames\n",
    "\n",
    "new_filenames = []\n",
    "for filename in filenames:\n",
    "    if filename.endswith(\".hpp\"):\n",
    "        new_filenames.append(filename.replace(\".hpp\", \".h\"))\n",
    "    else:\n",
    "        new_filenames.append(filename)\n",
    "\n",
    "print(new_filenames)\n",
    "# Should be [\"program.c\", \"stdio.h\", \"sample.h\", \"a.out\", \"math.h\", \"hpp.out\"]\n"
   ]
  },
  {
   "cell_type": "code",
   "execution_count": 19,
   "metadata": {},
   "outputs": [
    {
     "name": "stdout",
     "output_type": "stream",
     "text": [
      "Ira is 30 years old and works as a Chef\n",
      "Raj is 35 years old and works as a Lawyer\n",
      "Maria is 25 years old and works as an Engineer\n"
     ]
    }
   ],
   "source": [
    "def biography_list(people):\n",
    "    # Iterate over each \"person\" in the given \"people\" list of tuples. \n",
    "    for person in people: \n",
    "        # Separate the 3 items in each tuple into 3 variables:\n",
    "        # \"name\", \"age\", and \"profession\"   \n",
    "        name, age, profession = person  \n",
    "\n",
    "        # Format the required sentence and place the 3 variables \n",
    "        # in the correct placeholders using the .format() method.\n",
    "        print(\"{} is {} years old and works as {}\".format(name, age, profession))\n",
    "\n",
    "# Call to the function:\n",
    "biography_list([(\"Ira\", 30, \"a Chef\"), (\"Raj\", 35, \"a Lawyer\"), (\"Maria\", 25, \"an Engineer\")])\n",
    "\n",
    "# Output should match:\n",
    "# Ira is 30 years old and works as a Chef\n",
    "# Raj is 35 years old and works as a Lawyer\n",
    "# Maria is 25 years old and works as an Engineer\n"
   ]
  },
  {
   "cell_type": "markdown",
   "metadata": {},
   "source": [
    "## Dictionary"
   ]
  },
  {
   "cell_type": "code",
   "execution_count": 20,
   "metadata": {},
   "outputs": [
    {
     "data": {
      "text/plain": [
       "dict"
      ]
     },
     "execution_count": 20,
     "metadata": {},
     "output_type": "execute_result"
    }
   ],
   "source": [
    "x = {}\n",
    "type(x)"
   ]
  },
  {
   "cell_type": "code",
   "execution_count": 21,
   "metadata": {},
   "outputs": [
    {
     "name": "stdout",
     "output_type": "stream",
     "text": [
      "{'jpg': 10, 'txt': 14, 'csv': 2, 'py': 23}\n"
     ]
    }
   ],
   "source": [
    "file_counts = {\"jpg\":10, \"txt\":14, \"csv\":2, \"py\":23}\n",
    "print(file_counts)"
   ]
  },
  {
   "cell_type": "code",
   "execution_count": 22,
   "metadata": {},
   "outputs": [
    {
     "data": {
      "text/plain": [
       "14"
      ]
     },
     "execution_count": 22,
     "metadata": {},
     "output_type": "execute_result"
    }
   ],
   "source": [
    "file_counts = {\"jpg\":10, \"txt\":14, \"csv\":2, \"py\":23}\n",
    "file_counts[\"txt\"]"
   ]
  },
  {
   "cell_type": "code",
   "execution_count": 23,
   "metadata": {},
   "outputs": [
    {
     "data": {
      "text/plain": [
       "False"
      ]
     },
     "execution_count": 23,
     "metadata": {},
     "output_type": "execute_result"
    }
   ],
   "source": [
    "file_counts = {\"jpg\":10, \"txt\":14, \"csv\":2, \"py\":23}\n",
    "\"jpg\" in file_counts\n",
    "\"html\" in file_counts"
   ]
  },
  {
   "cell_type": "code",
   "execution_count": 24,
   "metadata": {},
   "outputs": [
    {
     "name": "stdout",
     "output_type": "stream",
     "text": [
      "{'jpg': 10, 'txt': 14, 'csv': 2, 'py': 23, 'cfg': 8}\n"
     ]
    }
   ],
   "source": [
    "file_counts = {\"jpg\":10, \"txt\":14, \"csv\":2, \"py\":23}\n",
    "file_counts[\"cfg\"] = 8\n",
    "print(file_counts)"
   ]
  },
  {
   "cell_type": "code",
   "execution_count": 25,
   "metadata": {},
   "outputs": [
    {
     "name": "stdout",
     "output_type": "stream",
     "text": [
      "{'jpg': 10, 'txt': 14, 'csv': 17, 'py': 23}\n"
     ]
    }
   ],
   "source": [
    "file_counts = {\"jpg\":10, \"txt\":14, \"csv\":2, \"py\":23}\n",
    "file_counts[\"csv\"] = 17\n",
    "print(file_counts)"
   ]
  },
  {
   "cell_type": "code",
   "execution_count": 26,
   "metadata": {},
   "outputs": [
    {
     "name": "stdout",
     "output_type": "stream",
     "text": [
      "{'jpg': 10, 'txt': 14, 'csv': 2, 'py': 23}\n"
     ]
    }
   ],
   "source": [
    "file_counts = {\"jpg\":10, \"txt\":14, \"csv\":2, \"py\":23, 'cfg':8}\n",
    "del file_counts[\"cfg\"]\n",
    "print(file_counts)"
   ]
  }
 ],
 "metadata": {
  "language_info": {
   "name": "python"
  }
 },
 "nbformat": 4,
 "nbformat_minor": 2
}
