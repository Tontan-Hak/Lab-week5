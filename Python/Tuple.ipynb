{
 "cells": [
  {
   "cell_type": "markdown",
   "metadata": {},
   "source": [
    "# 5 Essential Tuple Unpacking Techniques "
   ]
  },
  {
   "cell_type": "markdown",
   "metadata": {},
   "source": [
    "## 1. Basic Tuple Unpacking\n",
    "Explaination: This program unpacks a tuple containing personal details into individual variables."
   ]
  },
  {
   "cell_type": "code",
   "execution_count": 2,
   "metadata": {},
   "outputs": [
    {
     "name": "stdout",
     "output_type": "stream",
     "text": [
      "Name: Tontan\n",
      "Age: 27\n",
      "Profession: Teacher\n"
     ]
    }
   ],
   "source": [
    "person = (\"Tontan\", 27, \"Teacher\")\n",
    "name, age, profession = person\n",
    "print(f\"Name: {name}\")\n",
    "print(f\"Age: {age}\")\n",
    "print(f\"Profession: {profession}\")"
   ]
  },
  {
   "cell_type": "markdown",
   "metadata": {},
   "source": [
    "## 2. Swapping Variables Using Tuple Unpacking\n",
    "Explaination: This program swaps the values of two variables using tuple unpacking in a single line."
   ]
  },
  {
   "cell_type": "code",
   "execution_count": 3,
   "metadata": {},
   "outputs": [
    {
     "name": "stdout",
     "output_type": "stream",
     "text": [
      "a: 20\n",
      "b: 3\n"
     ]
    }
   ],
   "source": [
    "a = 3\n",
    "b = 20\n",
    "a, b = b, a\n",
    "print(f\"a: {a}\")\n",
    "print(f\"b: {b}\")"
   ]
  },
  {
   "cell_type": "markdown",
   "metadata": {},
   "source": [
    "## 3. Unpacking Elements from a list of tuple\n",
    "Explaination: This program iterates over a list of tuples and unpacks each tuple into individual variables within a loop."
   ]
  },
  {
   "cell_type": "code",
   "execution_count": 4,
   "metadata": {},
   "outputs": [
    {
     "name": "stdout",
     "output_type": "stream",
     "text": [
      "Student: Raksmy, Score: 23\n",
      "Student: Vann, Score: 34\n",
      "Student: Minh, Score: 50\n"
     ]
    }
   ],
   "source": [
    "students = [(\"Raksmy\", 23), (\"Vann\", 34), (\"Minh\", 50)]\n",
    "for name, score in students:\n",
    "    print(f\"Student: {name}, Score: {score}\")"
   ]
  },
  {
   "cell_type": "markdown",
   "metadata": {},
   "source": [
    "## 4. Unpacking with * (Star Operation)\n",
    "Explainaion: This program uses the * (star) operator to unpack the first two elements of a tuple and collect the rest into a list."
   ]
  },
  {
   "cell_type": "code",
   "execution_count": 5,
   "metadata": {},
   "outputs": [
    {
     "name": "stdout",
     "output_type": "stream",
     "text": [
      "First: 1\n",
      "Second: 2\n",
      "Rest: [3, 4, 5, 6, 7]\n"
     ]
    }
   ],
   "source": [
    "numbers= (1,2,3,4,5,6,7)\n",
    "first, second, *rest = numbers\n",
    "print(f\"First: {first}\")\n",
    "print(f\"Second: {second}\")\n",
    "print(f\"Rest: {rest}\")"
   ]
  },
  {
   "cell_type": "markdown",
   "metadata": {},
   "source": [
    "## Returning Multiple Values from a Function Using Tuple Unpacking\n",
    "Explaination: This program demonstates how a function can return multiple values as a tuple, which can then be unpacked into individual variables when called."
   ]
  },
  {
   "cell_type": "code",
   "execution_count": 6,
   "metadata": {},
   "outputs": [
    {
     "name": "stdout",
     "output_type": "stream",
     "text": [
      "Name: Tontan\n",
      "Age: 27\n",
      "Major: Computer Science\n"
     ]
    }
   ],
   "source": [
    "def get_student_info():\n",
    "    name = \"Tontan\"\n",
    "    age = 27\n",
    "    major = \"Computer Science\"\n",
    "    return name, age, major\n",
    "student_name, student_age, student_major = get_student_info()\n",
    "print(f\"Name: {student_name}\")\n",
    "print(f\"Age: {student_age}\")\n",
    "print(f\"Major: {student_major}\")"
   ]
  }
 ],
 "metadata": {
  "kernelspec": {
   "display_name": "myenv",
   "language": "python",
   "name": "myenv"
  },
  "language_info": {
   "codemirror_mode": {
    "name": "ipython",
    "version": 3
   },
   "file_extension": ".py",
   "mimetype": "text/x-python",
   "name": "python",
   "nbconvert_exporter": "python",
   "pygments_lexer": "ipython3",
   "version": "3.12.1"
  }
 },
 "nbformat": 4,
 "nbformat_minor": 2
}
