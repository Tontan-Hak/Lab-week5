{
 "cells": [
  {
   "cell_type": "markdown",
   "metadata": {},
   "source": [
    "## Recall what we have learned"
   ]
  },
  {
   "cell_type": "code",
   "execution_count": 1,
   "metadata": {},
   "outputs": [
    {
     "name": "stdout",
     "output_type": "stream",
     "text": [
      "0 10 20 30 40 50 60 70 80 90 100\n"
     ]
    }
   ],
   "source": [
    "def count_by_10(end):\n",
    "    count = \"\"\n",
    "    for number in range(0,end+1,10):\n",
    "        count += str(number) + \" \"\n",
    "    return count.strip()\n",
    "print(count_by_10(100))  "
   ]
  },
  {
   "cell_type": "code",
   "execution_count": 7,
   "metadata": {},
   "outputs": [
    {
     "name": "stdout",
     "output_type": "stream",
     "text": [
      "1 2 3 4 \n",
      "2 4 6 8 \n",
      "3 6 9 12 \n",
      "4 8 12 16 \n"
     ]
    }
   ],
   "source": [
    "def matrix(initial_number, end_of_first_row):\n",
    "    n1 = initial_number \n",
    "    n2 = end_of_first_row + 1\n",
    "    for column in range(n1, n2):\n",
    "        for row in range(n1, n2):\n",
    "            print(column*row, end=\" \")\n",
    "        print()\n",
    "    \n",
    "matrix(1, 4)"
   ]
  },
  {
   "cell_type": "code",
   "execution_count": 6,
   "metadata": {},
   "outputs": [
    {
     "name": "stdout",
     "output_type": "stream",
     "text": [
      "1 2 3 4 \n",
      "2 4 6 8 \n",
      "3 6 9 12 \n",
      "4 8 12 16 \n"
     ]
    }
   ],
   "source": [
    "# This function uses a set of nested for loops with the range() function \n",
    "# to create a matrix of numbers. The upper range value in the range() \n",
    "# function should be included in the matrix. The matrix should consist \n",
    "# of a set of numbers that fill both rows and columns.\n",
    "def matrix(initial_number, end_of_first_row):\n",
    "\n",
    "\n",
    "    # It is an optional code style to assign the long variable names in the\n",
    "    # function parameters to shorter variable names. \n",
    "    n1 = initial_number \n",
    "    n2 = end_of_first_row+1  # include the upper range value with +1\n",
    "\n",
    "    # The first for loop will create the columns.\n",
    "    for column in range(n1, n2):\n",
    "\n",
    "        # The nested for loop will create the rows.\n",
    "        for row in range(n1, n2):\n",
    "\n",
    "            # To make the matrix of numbers easier to read, include a space\n",
    "            # between each number in the rows until the loop reaches the \n",
    "            # end of the row. You can override the default behavior of the \n",
    "            # print() function (which inserts a new line character after \n",
    "            # the print command runs) by using the \"end=\" \"\" parameter \n",
    "            # inside the print() function.  \n",
    "            print(column*row, end=\" \")\n",
    "\n",
    "        # The row ends when the upper range value is encountered within the \n",
    "        # nested for loop. The outer (column) for loop should insert a new line\n",
    "        # to create the next row. Use the print() function new line default \n",
    "        # behavior with an empty print() function:\n",
    "        print()\n",
    "        \n",
    "# Call the function with 2 integer parameters. \n",
    "matrix(1, 4)\n",
    "# Should print:\n",
    "# 1 2 3 4 \n",
    "# 2 4 6 8 \n",
    "# 3 6 9 12 \n",
    "# 4 8 12 16        "
   ]
  },
  {
   "cell_type": "code",
   "execution_count": 8,
   "metadata": {},
   "outputs": [
    {
     "name": "stdout",
     "output_type": "stream",
     "text": [
      "0\n",
      "0\n",
      "1\n",
      "0\n",
      "1\n",
      "2\n",
      "0\n",
      "1\n",
      "2\n",
      "3\n",
      "0\n",
      "1\n",
      "2\n",
      "3\n",
      "4\n",
      "0\n",
      "1\n",
      "2\n",
      "3\n",
      "4\n",
      "5\n",
      "0\n",
      "1\n",
      "2\n",
      "3\n",
      "4\n",
      "5\n",
      "6\n",
      "0\n",
      "1\n",
      "2\n",
      "3\n",
      "4\n",
      "5\n",
      "6\n",
      "7\n",
      "0\n",
      "1\n",
      "2\n",
      "3\n",
      "4\n",
      "5\n",
      "6\n",
      "7\n",
      "8\n"
     ]
    }
   ],
   "source": [
    "for outer_loop in range(10):\n",
    "    for inner_loop in range(outer_loop):\n",
    "        print(inner_loop)"
   ]
  },
  {
   "cell_type": "code",
   "execution_count": 9,
   "metadata": {},
   "outputs": [
    {
     "name": "stdout",
     "output_type": "stream",
     "text": [
      "11 9 7 5 3 1 "
     ]
    }
   ],
   "source": [
    "for n in range(11,0,-2):\n",
    "    if n % 2 != 0:\n",
    "        print(n, end=\" \")"
   ]
  },
  {
   "cell_type": "code",
   "execution_count": 10,
   "metadata": {},
   "outputs": [
    {
     "name": "stdout",
     "output_type": "stream",
     "text": [
      "18 15 12 9 6 3 0 "
     ]
    }
   ],
   "source": [
    "starting_number = 18\n",
    "while starting_number >= 0:\n",
    "    print(starting_number, end=\" \")\n",
    "    starting_number -= 3"
   ]
  },
  {
   "cell_type": "code",
   "execution_count": 12,
   "metadata": {},
   "outputs": [
    {
     "name": "stdout",
     "output_type": "stream",
     "text": [
      "The CEO has a 7-figure salary.\n"
     ]
    }
   ],
   "source": [
    "def X_figure(salary):\n",
    "    tally = 0\n",
    "    if salary ==0:\n",
    "        tally +=1\n",
    "    while salary >=1:\n",
    "        salary = salary/10\n",
    "        tally +=1\n",
    "    return tally\n",
    "print(\"The CEO has a \" + str(X_figure(2300000)) + \"-figure salary.\")"
   ]
  },
  {
   "cell_type": "code",
   "execution_count": 13,
   "metadata": {},
   "outputs": [
    {
     "name": "stdout",
     "output_type": "stream",
     "text": [
      "Going up: 1 | 2 | 3 | 4\n",
      "Going down: 6 | 5 | 4 | 3 | 2\n"
     ]
    }
   ],
   "source": [
    "def elevator_floor(enter, exit):\n",
    "    floor = enter\n",
    "    elevator_direction = \"\"\n",
    "    if enter > exit:\n",
    "        elevator_direction = \"Going down: \"\n",
    "        while floor >= exit:\n",
    "            elevator_direction += str(floor)\n",
    "            if floor > exit:\n",
    "                elevator_direction += \" | \"\n",
    "            floor -= 1\n",
    "    else:\n",
    "        elevator_direction = \"Going up: \"\n",
    "        while floor <= exit:\n",
    "            elevator_direction += str(floor)\n",
    "            if floor < exit:\n",
    "                elevator_direction += \" | \"\n",
    "            floor += 1\n",
    "    return elevator_direction\n",
    "# Call the function with 2 integer parameters. \n",
    "print(elevator_floor(1,4)) # Should print Going up: 1 | 2 | 3 | 4\n",
    "print(elevator_floor(6,2)) # Should print Going down: 6 | 5 | 4 | 3 | 2"
   ]
  }
 ],
 "metadata": {
  "kernelspec": {
   "display_name": "myenv",
   "language": "python",
   "name": "myenv"
  },
  "language_info": {
   "codemirror_mode": {
    "name": "ipython",
    "version": 3
   },
   "file_extension": ".py",
   "mimetype": "text/x-python",
   "name": "python",
   "nbconvert_exporter": "python",
   "pygments_lexer": "ipython3",
   "version": "3.12.1"
  }
 },
 "nbformat": 4,
 "nbformat_minor": 2
}
