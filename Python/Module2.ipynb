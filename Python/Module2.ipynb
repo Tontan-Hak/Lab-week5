{
 "cells": [
  {
   "cell_type": "markdown",
   "metadata": {},
   "source": [
    "## Module 2"
   ]
  },
  {
   "cell_type": "code",
   "execution_count": 1,
   "metadata": {},
   "outputs": [
    {
     "name": "stdout",
     "output_type": "stream",
     "text": [
      "The average size is: 20839.2\n"
     ]
    }
   ],
   "source": [
    "total = 2048 + 4357 + 97658 + 125 + 8\n",
    "files = 5\n",
    "average = total / files\n",
    "print(\"The average size is: \" + str(average))"
   ]
  },
  {
   "cell_type": "code",
   "execution_count": 2,
   "metadata": {},
   "outputs": [
    {
     "name": "stdout",
     "output_type": "stream",
     "text": [
      "Each person needs to pay: 27.0\n"
     ]
    }
   ],
   "source": [
    "# The following lines assign the variable to the left of the = \n",
    "# assignment operator with the values and arithmetic expressions \n",
    "# on the right side of the = assignment operator.\n",
    "hotel_room = 100\n",
    "tax = hotel_room * 0.08\n",
    "total = hotel_room + tax\n",
    "room_guests = 4\n",
    "share_per_person = total/room_guests\n",
    "\n",
    "\n",
    "# This line outputs the result of the final calculation stored\n",
    "# in the variable \"share_per_person\"\n",
    "print(\"Each person needs to pay: \" + str(share_per_person)) # change a data type"
   ]
  },
  {
   "cell_type": "code",
   "execution_count": 3,
   "metadata": {},
   "outputs": [
    {
     "name": "stdout",
     "output_type": "stream",
     "text": [
      "Each person needs to pay: $27.19\n"
     ]
    }
   ],
   "source": [
    "# Each person needs to pay:\n",
    "\n",
    "bill = 47.28 # Assign \"bill\" variable with bill amount\n",
    "tip = bill * 0.15 # Multiply by stated tip rate \n",
    "total = bill + tip # Sum the \"total\" of the \"bill\" and \"tip\"\n",
    "share = total / 2 # Divide \"total\" by number of friends dining\n",
    "print(\"Each person needs to pay: $\" + str(round(share, 2))) # Enter the required string and \"share\" \n",
    "# Hint: Remember to convert incompatible data types"
   ]
  },
  {
   "cell_type": "code",
   "execution_count": 4,
   "metadata": {},
   "outputs": [
    {
     "name": "stdout",
     "output_type": "stream",
     "text": [
      "Dr. Prisha Jai Agarwal, Ph.D.\n",
      "Dr. Prisha Jai Agarwal , Ph.D.\n"
     ]
    }
   ],
   "source": [
    "# The following 5 lines assign strings to a list of variables.\n",
    "salutation = \"Dr.\"\n",
    "first_name = \"Prisha\"\n",
    "middle_name = \"Jai\"\n",
    "last_name = \"Agarwal\"\n",
    "suffix = \"Ph.D.\"\n",
    "\n",
    "print(salutation + \" \" + first_name + \" \" + middle_name + \" \" + last_name + \", \" + suffix) \n",
    "# The comma as a string \", \" adds the conventional use of a comma plus a \n",
    "# space to separate the last name from the suffix.\n",
    "\n",
    "# Alternatively, you could use commas in place of the + connector:\n",
    "print(salutation, first_name, middle_name, last_name,\",\", suffix)\n",
    "# However, you will find that this produces a space before a comma within a string."
   ]
  },
  {
   "cell_type": "code",
   "execution_count": 5,
   "metadata": {},
   "outputs": [
    {
     "name": "stdout",
     "output_type": "stream",
     "text": [
      "Welcome, Blake\n",
      "You are part of Software engineering\n",
      "Welcome, Ellis\n",
      "You are part of Software engineering\n"
     ]
    }
   ],
   "source": [
    "# Function\n",
    "\n",
    "def greeting(name, department):\n",
    "    print(\"Welcome, \" + name)\n",
    "    print(\"You are part of \" + department)\n",
    "    \n",
    "greeting(\"Blake\", \"Software engineering\")\n",
    "greeting(\"Ellis\", \"Software engineering\")"
   ]
  },
  {
   "cell_type": "code",
   "execution_count": 1,
   "metadata": {},
   "outputs": [
    {
     "name": "stdout",
     "output_type": "stream",
     "text": [
      "12 % 8 =  4\n",
      "12 / 8 =  1\n",
      "1 % 8 =  1\n",
      "1 / 8 =  0\n",
      "12 in base-8 is 14\n",
      "12 % 16 =  12\n",
      "12 / 16 =  0\n",
      "12 in base-16 is c\n"
     ]
    }
   ],
   "source": [
    "num = int(input('Enter a base-10 number: '))\n",
    "out = ''\n",
    "val = num\n",
    "while (val > 0 ) :\n",
    "    digit = val % 8\n",
    "    print(val,'% 8 = ',digit)\n",
    "    out = str(digit) + out;\n",
    "    new = int(val / 8)\n",
    "    print(val,'/ 8 = ',new)\n",
    "    val = new\n",
    "print(num, 'in base-8 is', out)\n",
    "digits = '0123456789abcdef'\n",
    "out = ''\n",
    "val = num\n",
    "while (val > 0 ) :\n",
    "    digit = val % 16\n",
    "    print(val,'% 16 = ',digit)\n",
    "    out = digits[digit:digit+1] + out;\n",
    "    new = int(val / 16)\n",
    "    print(val,'/ 16 = ',new)\n",
    "    val = new\n",
    "print(num, 'in base-16 is', out)"
   ]
  }
 ],
 "metadata": {
  "kernelspec": {
   "display_name": "myenv",
   "language": "python",
   "name": "myenv"
  },
  "language_info": {
   "codemirror_mode": {
    "name": "ipython",
    "version": 3
   },
   "file_extension": ".py",
   "mimetype": "text/x-python",
   "name": "python",
   "nbconvert_exporter": "python",
   "pygments_lexer": "ipython3",
   "version": "3.12.1"
  }
 },
 "nbformat": 4,
 "nbformat_minor": 2
}
