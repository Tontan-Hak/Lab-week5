{
 "cells": [
  {
   "cell_type": "markdown",
   "metadata": {},
   "source": [
    "## Key Features of F-Strings:"
   ]
  },
  {
   "cell_type": "code",
   "execution_count": 1,
   "metadata": {},
   "outputs": [
    {
     "name": "stdout",
     "output_type": "stream",
     "text": [
      "Hello, my name is Alice and I am 30 years old.\n"
     ]
    }
   ],
   "source": [
    "# Embedding Expressions:\n",
    "name = \"Alice\"\n",
    "age = 30\n",
    "greeting = f\"Hello, my name is {name} and I am {age} years old.\"\n",
    "print(greeting)"
   ]
  },
  {
   "cell_type": "code",
   "execution_count": 2,
   "metadata": {},
   "outputs": [
    {
     "name": "stdout",
     "output_type": "stream",
     "text": [
      "The sum of 5 and 10 is 15.\n"
     ]
    }
   ],
   "source": [
    "# Evaluating Expressions:\n",
    "x = 5\n",
    "y = 10\n",
    "result = f\"The sum of {x} and {y} is {x + y}.\"\n",
    "print(result)"
   ]
  },
  {
   "cell_type": "code",
   "execution_count": 3,
   "metadata": {},
   "outputs": [
    {
     "name": "stdout",
     "output_type": "stream",
     "text": [
      "The double of 4 is 8.\n"
     ]
    }
   ],
   "source": [
    "# Calling Functions:\n",
    "def double(n):\n",
    "    return n * 2\n",
    "\n",
    "number = 4\n",
    "result = f\"The double of {number} is {double(number)}.\"\n",
    "print(result)"
   ]
  },
  {
   "cell_type": "code",
   "execution_count": 4,
   "metadata": {},
   "outputs": [
    {
     "name": "stdout",
     "output_type": "stream",
     "text": [
      "Pi rounded to two decimal places is 3.14.\n"
     ]
    }
   ],
   "source": [
    "# Formatting Numbers:\n",
    "pi = 3.14159\n",
    "formatted_pi = f\"Pi rounded to two decimal places is {pi:.2f}.\"\n",
    "print(formatted_pi)"
   ]
  },
  {
   "cell_type": "code",
   "execution_count": 5,
   "metadata": {},
   "outputs": [
    {
     "name": "stdout",
     "output_type": "stream",
     "text": [
      "|Alice     | is left-aligned, |     Alice| is right-aligned.\n"
     ]
    }
   ],
   "source": [
    "# Specifying Widths and Alignments\n",
    "name = \"Alice\"\n",
    "aligned = f\"|{name:<10}| is left-aligned, |{name:>10}| is right-aligned.\"\n",
    "print(aligned)"
   ]
  },
  {
   "cell_type": "code",
   "execution_count": 6,
   "metadata": {},
   "outputs": [
    {
     "name": "stdout",
     "output_type": "stream",
     "text": [
      "Hello, my name is Alice and I am 30 years old.\n"
     ]
    }
   ],
   "source": [
    "name = \"Alice\"\n",
    "age = 30\n",
    "\n",
    "print(f\"Hello, my name is {name} and I am {age} years old.\")"
   ]
  },
  {
   "cell_type": "code",
   "execution_count": 7,
   "metadata": {},
   "outputs": [
    {
     "name": "stdout",
     "output_type": "stream",
     "text": [
      "The sum of 5 and 10 is 15.\n"
     ]
    }
   ],
   "source": [
    "a = 5\n",
    "b = 10\n",
    "\n",
    "print(f\"The sum of {a} and {b} is {a + b}.\")"
   ]
  },
  {
   "cell_type": "code",
   "execution_count": 8,
   "metadata": {},
   "outputs": [
    {
     "name": "stdout",
     "output_type": "stream",
     "text": [
      "Hello, my name is Alice and I am 30 years old.\n"
     ]
    }
   ],
   "source": [
    "# Using the % Operator (Old Style String Formatting)\n",
    "name = \"Alice\"\n",
    "age = 30\n",
    "\n",
    "print(\"Hello, my name is %s and I am %d years old.\" % (name, age))"
   ]
  },
  {
   "cell_type": "code",
   "execution_count": 9,
   "metadata": {},
   "outputs": [
    {
     "name": "stdout",
     "output_type": "stream",
     "text": [
      "Hello, my name is Alice and I am 30 years old.\n"
     ]
    }
   ],
   "source": [
    "# Using str.format() Method\n",
    "name = \"Alice\"\n",
    "age = 30\n",
    "\n",
    "print(\"Hello, my name is {} and I am {} years old.\".format(name, age))"
   ]
  },
  {
   "cell_type": "code",
   "execution_count": 10,
   "metadata": {},
   "outputs": [
    {
     "name": "stdout",
     "output_type": "stream",
     "text": [
      "Hello, my name is Alice and I am 30 years old.\n"
     ]
    }
   ],
   "source": [
    "# Concatenation with + Operator\n",
    "name = \"Alice\"\n",
    "age = 30\n",
    "\n",
    "print(\"Hello, my name is \" + name + \" and I am \" + str(age) + \" years old.\")"
   ]
  }
 ],
 "metadata": {
  "kernelspec": {
   "display_name": "myenv",
   "language": "python",
   "name": "myenv"
  },
  "language_info": {
   "codemirror_mode": {
    "name": "ipython",
    "version": 3
   },
   "file_extension": ".py",
   "mimetype": "text/x-python",
   "name": "python",
   "nbconvert_exporter": "python",
   "pygments_lexer": "ipython3",
   "version": "3.12.1"
  }
 },
 "nbformat": 4,
 "nbformat_minor": 2
}
