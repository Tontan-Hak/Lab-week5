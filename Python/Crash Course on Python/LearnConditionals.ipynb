{
 "cells": [
  {
   "cell_type": "markdown",
   "metadata": {},
   "source": [
    "# Learn Conditionals in Python"
   ]
  },
  {
   "cell_type": "code",
   "execution_count": 1,
   "metadata": {},
   "outputs": [
    {
     "name": "stdout",
     "output_type": "stream",
     "text": [
      "True\n",
      "False\n",
      "True\n"
     ]
    }
   ],
   "source": [
    "print(10>1)\n",
    "#True\n",
    "print(\"cat\" == \"dog\")\n",
    "#False\n",
    "print (1 != 2)\n",
    "#True"
   ]
  },
  {
   "cell_type": "code",
   "execution_count": 2,
   "metadata": {},
   "outputs": [
    {
     "name": "stdout",
     "output_type": "stream",
     "text": [
      "False\n"
     ]
    }
   ],
   "source": [
    "print(1 == \"1\")"
   ]
  },
  {
   "cell_type": "code",
   "execution_count": 3,
   "metadata": {},
   "outputs": [
    {
     "name": "stdout",
     "output_type": "stream",
     "text": [
      "False\n",
      "True\n",
      "True\n"
     ]
    }
   ],
   "source": [
    "print(\"Yellow\" > \"Cyan\" and \"Brown\" > \"Magenta\")\n",
    "print(25 > 50 or 1 != 2)\n",
    "print(not 42 == \"Answer\")"
   ]
  },
  {
   "cell_type": "code",
   "execution_count": 4,
   "metadata": {},
   "outputs": [
    {
     "name": "stdout",
     "output_type": "stream",
     "text": [
      "True\n",
      "False\n"
     ]
    }
   ],
   "source": [
    "print(32 == 30+2)\n",
    "print(5+10 == 6+7)"
   ]
  },
  {
   "cell_type": "code",
   "execution_count": 5,
   "metadata": {},
   "outputs": [
    {
     "name": "stdout",
     "output_type": "stream",
     "text": [
      "True\n",
      "False\n"
     ]
    }
   ],
   "source": [
    "print(10-4 != 10+4)\n",
    "print(9/3 != 3*1)"
   ]
  },
  {
   "cell_type": "code",
   "execution_count": 6,
   "metadata": {},
   "outputs": [
    {
     "name": "stdout",
     "output_type": "stream",
     "text": [
      "15\n",
      "True\n"
     ]
    }
   ],
   "source": [
    "my_variable = 3*5           # Assigns a value to my_variable      \n",
    "print(my_variable)\n",
    "\n",
    "print(my_variable == 3*5)"
   ]
  },
  {
   "cell_type": "code",
   "execution_count": 7,
   "metadata": {},
   "outputs": [
    {
     "name": "stdout",
     "output_type": "stream",
     "text": [
      "True\n",
      "False\n",
      "True\n",
      "False\n"
     ]
    }
   ],
   "source": [
    "print(11 > 3*3)\n",
    "print(4/2 > 8-4)\n",
    "print(4/2 < 8-4)\n",
    "print(11 < 3*3)"
   ]
  },
  {
   "cell_type": "code",
   "execution_count": 8,
   "metadata": {},
   "outputs": [
    {
     "name": "stdout",
     "output_type": "stream",
     "text": [
      "False\n",
      "True\n",
      "False\n",
      "False\n"
     ]
    }
   ],
   "source": [
    "print(\"4 + 5\" == 4 + 5)\n",
    "\n",
    "print(\"rabbit\" != \"frog\")\n",
    "\n",
    "event_city = \"Shanghai\"\n",
    "print(event_city != \"Shanghai\")\n",
    "\n",
    "print(\"three\" == 3)"
   ]
  },
  {
   "cell_type": "code",
   "execution_count": 9,
   "metadata": {},
   "outputs": [
    {
     "name": "stdout",
     "output_type": "stream",
     "text": [
      "True\n",
      "True\n",
      "False\n",
      "False\n"
     ]
    }
   ],
   "source": [
    "print(\"Wednesday\" > \"Friday\")\n",
    "print(\"Brown\" < \"brown\")\n",
    "print(\"sunbathe\" > \"suntan\")\n",
    "print(\"Lima\" < \"Lima\")"
   ]
  },
  {
   "cell_type": "code",
   "execution_count": 10,
   "metadata": {},
   "outputs": [
    {
     "name": "stdout",
     "output_type": "stream",
     "text": [
      "Is \"my computer\" greater than or equal to \"my chair\"? Result:  True\n",
      "Is \"Spring\" less than or equal to \"Winter\"? Result:  True\n",
      "Is \"pineapple\" less than or equal to \"pineapple\"? Result:  True\n"
     ]
    }
   ],
   "source": [
    "var1 = \"my computer\" >= \"my chair\"\n",
    "var2 = \"Spring\" <= \"Winter\"\n",
    "var3 = \"pineapple\" >= \"pineapple\"\n",
    "\n",
    "print(\"Is \\\"my computer\\\" greater than or equal to \\\"my chair\\\"? Result: \", var1)\n",
    "print(\"Is \\\"Spring\\\" less than or equal to \\\"Winter\\\"? Result: \", var2)\n",
    "print(\"Is \\\"pineapple\\\" less than or equal to \\\"pineapple\\\"? Result: \", var3)"
   ]
  },
  {
   "cell_type": "code",
   "execution_count": 11,
   "metadata": {},
   "outputs": [
    {
     "name": "stdout",
     "output_type": "stream",
     "text": [
      "True\n"
     ]
    }
   ],
   "source": [
    "print((6*3 >= 18) and (9+9 <= 36/2))"
   ]
  },
  {
   "cell_type": "code",
   "execution_count": 12,
   "metadata": {},
   "outputs": [
    {
     "name": "stdout",
     "output_type": "stream",
     "text": [
      "False\n"
     ]
    }
   ],
   "source": [
    "print(\"Nairobi\" < \"Milan\" and \"Nairobi\" > \"Hanoi\")"
   ]
  },
  {
   "cell_type": "code",
   "execution_count": 13,
   "metadata": {},
   "outputs": [
    {
     "name": "stdout",
     "output_type": "stream",
     "text": [
      "True\n",
      "True\n",
      "True\n",
      "False\n"
     ]
    }
   ],
   "source": [
    "# Define country and city variables\n",
    "country = \"United States\"\n",
    "city = \"New York City\"\n",
    "\n",
    "# True or True returns True\n",
    "print((15/3 < 2+4) or (0 >= 6-7))  # True or True = True\n",
    "\n",
    "# False or True returns True\n",
    "print(country == \"New York City\" or city == \"New York City\")  # False or True = True\n",
    "\n",
    "# True or False returns True\n",
    "print(16 <= 4**2 or 9**(0.5) != 3)  # True or False = True\n",
    "\n",
    "# False or False returns False\n",
    "print(\"B_name\" > \"C_name\" or \"B_name\" < \"A_name\") # False or False = False"
   ]
  },
  {
   "cell_type": "code",
   "execution_count": 16,
   "metadata": {},
   "outputs": [],
   "source": [
    "def hint_username(username):\n",
    "    if len(username) < 3:\n",
    "        print(\"Invalid username. Must be at least 3 characters long\")\n",
    "        \n",
    "    else:\n",
    "        print(\"Valid username\")"
   ]
  },
  {
   "cell_type": "code",
   "execution_count": 17,
   "metadata": {},
   "outputs": [],
   "source": [
    "def is_positive(number):\n",
    "    if number > 0:\n",
    "        return True\n",
    "    else:\n",
    "        return False"
   ]
  },
  {
   "cell_type": "code",
   "execution_count": 18,
   "metadata": {},
   "outputs": [],
   "source": [
    "def is_even(number):\n",
    "    if number % 2 == 0: \n",
    "        return True\n",
    "    return False"
   ]
  },
  {
   "cell_type": "code",
   "execution_count": 19,
   "metadata": {},
   "outputs": [
    {
     "name": "stdout",
     "output_type": "stream",
     "text": [
      "None\n"
     ]
    }
   ],
   "source": [
    "def translate_error_code(error_code):\n",
    "    if error_code == \"401 Unauthorized\":\n",
    "        translation = \"Server received an unauthenticated request\"\n",
    "    elif error_code == \"404 Not Found\":\n",
    "        translation = \"Requested web page not found on server\"\n",
    "    elif error_code == \"408 Request Timeout\":\n",
    "        translation = \"Server request to close unused connection\"\n",
    "        return translation\n",
    "print(translate_error_code(\"404 Not Found\"))   "
   ]
  },
  {
   "cell_type": "code",
   "execution_count": 20,
   "metadata": {},
   "outputs": [
    {
     "name": "stdout",
     "output_type": "stream",
     "text": [
      "The number is less than 32 and greater than 6.\n"
     ]
    }
   ],
   "source": [
    "number = 25\n",
    "if number <= 5: \n",
    "    print(\"The number is 5 or smaller.\")\n",
    "elif number == 33:\n",
    "    print(\"The number is 33.\")\n",
    "\n",
    "elif number < 32 and number >= 6:\n",
    "    print(\"The number is less than 32 and greater than 6.\")\n",
    "\n",
    "else:\n",
    "    print(\"The number is \" + str(number))"
   ]
  },
  {
   "cell_type": "code",
   "execution_count": 21,
   "metadata": {},
   "outputs": [
    {
     "name": "stdout",
     "output_type": "stream",
     "text": [
      "40\n"
     ]
    }
   ],
   "source": [
    "def round_up(number):\n",
    "    x = 10\n",
    "    whole_number = number // x\n",
    "    remainder = number % x \n",
    "    if remainder >= 5:\n",
    "        return x*(whole_number+1)\n",
    "    return x*whole_number\n",
    "\n",
    "print(round_up(35))"
   ]
  },
  {
   "cell_type": "code",
   "execution_count": 22,
   "metadata": {},
   "outputs": [
    {
     "name": "stdout",
     "output_type": "stream",
     "text": [
      "Welcome back Taylor!\n",
      "Hello there, John\n"
     ]
    }
   ],
   "source": [
    "def greeting(name):\n",
    "    if name == \"Taylor\":\n",
    "        return \"Welcome back Taylor!\"\n",
    "    else:\n",
    "        return \"Hello there, \" + name\n",
    "\n",
    "print(greeting(\"Taylor\"))\n",
    "print(greeting(\"John\"))"
   ]
  },
  {
   "cell_type": "code",
   "execution_count": 24,
   "metadata": {},
   "outputs": [
    {
     "name": "stdout",
     "output_type": "stream",
     "text": [
      "0\n"
     ]
    }
   ],
   "source": [
    "if number > 11: \n",
    "    print(0)\n",
    "elif number != 10:\n",
    "    print(1)\n",
    "elif number >= 20 or number < 12:\n",
    "    print(2)\n",
    "else:\n",
    "    print(3)"
   ]
  },
  {
   "cell_type": "code",
   "execution_count": 25,
   "metadata": {},
   "outputs": [
    {
     "name": "stdout",
     "output_type": "stream",
     "text": [
      "4096\n",
      "4096\n",
      "8192\n",
      "8192\n"
     ]
    }
   ],
   "source": [
    "def calculate_storage(filesize):\n",
    "    block_size = 4096\n",
    "    # Use floor division to calculate how many blocks are fully occupied\n",
    "    full_blocks = filesize // block_size\n",
    "    # Use the modulo operator to check whether there's any remainder\n",
    "    partial_block_remainder = filesize % block_size\n",
    "    # Depending on whether there's a remainder or not, return\n",
    "    # the total number of bytes required to allocate enough blocks\n",
    "    # to store your data.\n",
    "    if partial_block_remainder > 0:\n",
    "        return (full_blocks + 1) * block_size\n",
    "    return full_blocks * block_size\n",
    "\n",
    "print(calculate_storage(1))    # Should be 4096\n",
    "print(calculate_storage(4096)) # Should be 4096\n",
    "print(calculate_storage(4097)) # Should be 8192\n",
    "print(calculate_storage(6000)) # Should be 8192\n"
   ]
  },
  {
   "cell_type": "code",
   "execution_count": 26,
   "metadata": {},
   "outputs": [
    {
     "name": "stdout",
     "output_type": "stream",
     "text": [
      "Provide IT Support to employees\n"
     ]
    }
   ],
   "source": [
    "def task_reminder(time_as_string):\n",
    "    if time_as_string == \"8:00 a.m.\":\n",
    "        task = \"Check overnight backup images\"\n",
    "    elif time_as_string == \"11:30 a.m.\":\n",
    "        task = \"Run TPS report\"\n",
    "    elif time_as_string == \"5:30 p.m.\":\n",
    "        task = \"Reboot servers\"\n",
    "    else:\n",
    "        task = \"Provide IT Support to employees\"\n",
    "    return task\n",
    "print(task_reminder(\"10:00 a.m.\"))"
   ]
  },
  {
   "cell_type": "code",
   "execution_count": 27,
   "metadata": {},
   "outputs": [
    {
     "name": "stdout",
     "output_type": "stream",
     "text": [
      "0.3333333333333333\n"
     ]
    }
   ],
   "source": [
    "def get_remainder(x, y):\n",
    "    if x == 0 or y == 0 or x ==y:\n",
    "        remainder = 0\n",
    "    else:\n",
    "        remainder = (x % y) / y\n",
    "    return remainder\n",
    "\n",
    "print(get_remainder(10, 3))"
   ]
  },
  {
   "cell_type": "code",
   "execution_count": 29,
   "metadata": {},
   "outputs": [
    {
     "name": "stdout",
     "output_type": "stream",
     "text": [
      "7\n"
     ]
    }
   ],
   "source": [
    "number = 4\n",
    "if number * 4 < 15:\n",
    "    print(number / 4)\n",
    "elif number < 5:\n",
    "    print(number + 3)\n",
    "else:\n",
    "    print(number * 2 % 5)"
   ]
  },
  {
   "cell_type": "code",
   "execution_count": 30,
   "metadata": {},
   "outputs": [
    {
     "name": "stdout",
     "output_type": "stream",
     "text": [
      "Marjery lives at her home address of 1234 Mockingbird Lane\n"
     ]
    }
   ],
   "source": [
    "name = \"Marjery\"\n",
    "home_address = \"1234 Mockingbird Lane\"\n",
    "print(name + \" lives at her home address of \" + home_address)\n",
    "# Should print \"Marjery lives at her home address of 1234 Mockingbird Lane\""
   ]
  },
  {
   "cell_type": "code",
   "execution_count": 31,
   "metadata": {},
   "outputs": [
    {
     "name": "stdout",
     "output_type": "stream",
     "text": [
      "15\n"
     ]
    }
   ],
   "source": [
    "test_num = 12\n",
    "if test_num > 15:\n",
    "    print(test_num / 4)\n",
    "else:\n",
    "    print(test_num + 3)"
   ]
  },
  {
   "cell_type": "code",
   "execution_count": 32,
   "metadata": {},
   "outputs": [
    {
     "name": "stdout",
     "output_type": "stream",
     "text": [
      "2\n"
     ]
    }
   ],
   "source": [
    "def difference(x, y):\n",
    "    z = x - y\n",
    "    return z\n",
    "\n",
    "\n",
    "print(difference(5, 3))"
   ]
  },
  {
   "cell_type": "code",
   "execution_count": 33,
   "metadata": {},
   "outputs": [
    {
     "name": "stdout",
     "output_type": "stream",
     "text": [
      "T-Shirt\n",
      "Sweatshirt\n",
      "Sweatshirt\n",
      "Jacket\n",
      "Jacket\n",
      "Heavy Coat\n",
      "Heavy Coat\n"
     ]
    }
   ],
   "source": [
    "def clothing_type(temp):\n",
    "    if temp <= 32:\n",
    "        clothing = \"Heavy Coat\"\n",
    "    elif temp <= 50:\n",
    "        clothing = \"Jacket\"\n",
    "    elif temp <= 65:\n",
    "        clothing = \"Sweatshirt\"\n",
    "    else:\n",
    "        clothing = \"T-Shirt\"\n",
    "    return clothing\n",
    "\n",
    "print(clothing_type(72)) # Should print T-Shirt\n",
    "print(clothing_type(55)) # Should print Sweatshirt\n",
    "print(clothing_type(65)) # Should print Sweatshirt\n",
    "print(clothing_type(50)) # Should print Jacket\n",
    "print(clothing_type(45)) # Should print Jacket\n",
    "print(clothing_type(32)) # Should print Heavy Coat\n",
    "print(clothing_type(0)) # Should print Heavy Coat\n"
   ]
  },
  {
   "cell_type": "code",
   "execution_count": 34,
   "metadata": {},
   "outputs": [
    {
     "name": "stdout",
     "output_type": "stream",
     "text": [
      "Check\n"
     ]
    }
   ],
   "source": [
    "n = 4\n",
    "if n*6 > n**2 or n%2 == 0:\n",
    "    print(\"Check\")"
   ]
  },
  {
   "cell_type": "code",
   "execution_count": 35,
   "metadata": {},
   "outputs": [
    {
     "name": "stdout",
     "output_type": "stream",
     "text": [
      "4\n",
      "0\n",
      "0.25\n",
      "5\n"
     ]
    }
   ],
   "source": [
    "def make_positive(number):\n",
    "    if number <0:\n",
    "        result = number * -1 \n",
    "    else:\n",
    "        result = number\n",
    "    return result\n",
    "\n",
    "\n",
    "print(make_positive(-4))   # Should print 4\n",
    "print(make_positive(0))    # Should print 0\n",
    "print(make_positive(-.25)) # Should print 0.25\n",
    "print(make_positive(5))    # Should print 5"
   ]
  },
  {
   "cell_type": "code",
   "execution_count": 1,
   "metadata": {},
   "outputs": [
    {
     "name": "stdout",
     "output_type": "stream",
     "text": [
      "orange\n",
      "purple\n",
      "green\n",
      "unknown\n",
      "unknown\n",
      "unknown\n"
     ]
    }
   ],
   "source": [
    "def complementary_color(color):\n",
    "    if color == \"blue\":\n",
    "        complement = \"orange\"\n",
    "    elif color == \"yellow\":\n",
    "        complement = \"purple\"\n",
    "    elif color == \"red\":\n",
    "        complement = \"green\"\n",
    "    else:\n",
    "        complement = \"unknown\"\n",
    "    return complement\n",
    "\n",
    "print(complementary_color(\"blue\")) # Should print orange\n",
    "print(complementary_color(\"yellow\")) # Should print purple\n",
    "print(complementary_color(\"red\")) # Should print green\n",
    "print(complementary_color(\"black\")) # Should print unknown\n",
    "print(complementary_color(\"Blue\")) # Should print unknown\n",
    "print(complementary_color(\"\")) # Should print unknown"
   ]
  },
  {
   "cell_type": "code",
   "execution_count": 2,
   "metadata": {},
   "outputs": [
    {
     "name": "stdout",
     "output_type": "stream",
     "text": [
      "1.0\n",
      "1.25\n",
      "0\n",
      "0.0\n"
     ]
    }
   ],
   "source": [
    "def safe_division(numerator, denominator):\n",
    "    # Complete the if block to catch any \"denominator\" variables\n",
    "    # that are equal to 0.\n",
    "    if denominator == 0:\n",
    "        result = 0\n",
    "    else:\n",
    "        # Complete the division equation.\n",
    "        result = numerator/denominator\n",
    "    return result\n",
    "\n",
    "\n",
    "print(safe_division(5, 5)) # Should print 1.0\n",
    "print(safe_division(5, 4)) # Should print 1.25\n",
    "print(safe_division(5, 0)) # Should print 0\n",
    "print(safe_division(0, 5)) # Should print 0.0"
   ]
  }
 ],
 "metadata": {
  "kernelspec": {
   "display_name": "myenv",
   "language": "python",
   "name": "myenv"
  },
  "language_info": {
   "codemirror_mode": {
    "name": "ipython",
    "version": 3
   },
   "file_extension": ".py",
   "mimetype": "text/x-python",
   "name": "python",
   "nbconvert_exporter": "python",
   "pygments_lexer": "ipython3",
   "version": "3.12.1"
  }
 },
 "nbformat": 4,
 "nbformat_minor": 2
}
