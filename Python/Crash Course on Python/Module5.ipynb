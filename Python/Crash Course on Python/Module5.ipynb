{
 "cells": [
  {
   "cell_type": "markdown",
   "metadata": {},
   "source": [
    "## Module 5 learning and apply all concept to challenging project."
   ]
  },
  {
   "cell_type": "code",
   "execution_count": 1,
   "metadata": {},
   "outputs": [
    {
     "name": "stdout",
     "output_type": "stream",
     "text": [
      "[1, 2, 4, 6, 7]\n"
     ]
    }
   ],
   "source": [
    "numbers = [ 4, 6, 2, 7, 1 ]\n",
    "numbers.sort()\n",
    "print(numbers)"
   ]
  },
  {
   "cell_type": "code",
   "execution_count": 2,
   "metadata": {},
   "outputs": [
    {
     "name": "stdout",
     "output_type": "stream",
     "text": [
      "['Alex', 'Carlos', 'Kelly', 'Ray']\n",
      "['Carlos', 'Ray', 'Alex', 'Kelly']\n",
      "['Ray', 'Alex', 'Kelly', 'Carlos']\n"
     ]
    }
   ],
   "source": [
    "names = [\"Carlos\", \"Ray\", \"Alex\", \"Kelly\"]\n",
    "print(sorted(names))\n",
    "print(names)\n",
    "print(sorted(names, key=len))"
   ]
  },
  {
   "cell_type": "code",
   "execution_count": 3,
   "metadata": {},
   "outputs": [],
   "source": [
    "def current_users(events):\n",
    "    events.sort(key=get_event_date)\n",
    "    machines = {}\n",
    "    for event in events:\n",
    "        if event.machine not in machines:\n",
    "            machines[event.machine] = set()\n",
    "        if event.type == \"login\":\n",
    "            machines[event.machine].add(event.user)\n",
    "        elif event.type == \"logout\":\n",
    "            machines[event.machine].remove(event.user)\n",
    "    return machines"
   ]
  },
  {
   "cell_type": "code",
   "execution_count": 4,
   "metadata": {},
   "outputs": [],
   "source": [
    "def generate_report(machines):\n",
    "    for machine, users in machines.items():\n",
    "        if len(users) > 0:\n",
    "            user_list = \", \".join(users)\n",
    "            print(\"{}: {}\".format(machine, user_list))"
   ]
  },
  {
   "cell_type": "code",
   "execution_count": 5,
   "metadata": {},
   "outputs": [],
   "source": [
    "def get_event_date(event):\n",
    "\treturn event.date"
   ]
  },
  {
   "cell_type": "code",
   "execution_count": 6,
   "metadata": {},
   "outputs": [],
   "source": [
    "def current_users(events):\n",
    "    events.sort(key=get_event_date)\n",
    "    machines = {}\n",
    "    for event in events:\n",
    "        if event.machine not in machines:\n",
    "            machines[event.machine] = set()\n",
    "        if event.type == \"login\":\n",
    "            machines[event.machine].add(event.user)\n",
    "        elif event.type == \"logout\":\n",
    "            machines[event.machine].remove(event.user)\n",
    "    return machines"
   ]
  },
  {
   "cell_type": "code",
   "execution_count": 9,
   "metadata": {},
   "outputs": [
    {
     "name": "stdout",
     "output_type": "stream",
     "text": [
      "{'webserver.local': {'lane'}, 'myworkstation.local': set(), 'mailserver.local': {'chris'}}\n",
      "webserver.local: lane\n",
      "mailserver.local: chris\n"
     ]
    }
   ],
   "source": [
    "def get_event_date(event):\n",
    "    return event.date\n",
    "\n",
    "def current_users(events):\n",
    "    events.sort(key=get_event_date)\n",
    "    machines = {}\n",
    "    for event in events:\n",
    "        if event.machine not in machines:\n",
    "            machines[event.machine] = set()\n",
    "        if event.type == \"login\":\n",
    "            machines[event.machine].add(event.user)\n",
    "        elif event.type == \"logout\":\n",
    "            machines[event.machine].remove(event.user)\n",
    "    return machines\n",
    "def generate_report(machines):\n",
    "    for machine, users in machines.items():\n",
    "        if len(users) > 0:\n",
    "            user_list = \", \".join(users)\n",
    "            print(\"{}: {}\".format(machine, user_list))\n",
    "\n",
    "class Event:\n",
    "    def __init__(self, event_date, event_type, machine_name, user):\n",
    "        self.date = event_date\n",
    "        self.type = event_type\n",
    "        self.machine = machine_name\n",
    "        self.user = user\n",
    "\n",
    "events = [\n",
    "    Event('2020-01-21 12:45:46', 'login', 'myworkstation.local', 'jordan'),\n",
    "    Event('2020-01-22 15:53:42', 'logout', 'webserver.local', 'jordan'),\n",
    "    Event('2020-01-21 18:53:21', 'login', 'webserver.local', 'lane'),\n",
    "    Event('2020-01-22 10:25:34', 'logout', 'myworkstation.local', 'jordan'),\n",
    "    Event('2020-01-21 08:20:01', 'login', 'webserver.local', 'jordan'),\n",
    "    Event('2020-01-23 11:24:35', 'login', 'mailserver.local', 'chris'),\n",
    "]\n",
    "\n",
    "users = current_users(events)\n",
    "print(users)\n",
    "generate_report(users)"
   ]
  },
  {
   "cell_type": "code",
   "execution_count": 13,
   "metadata": {},
   "outputs": [
    {
     "name": "stdout",
     "output_type": "stream",
     "text": [
      "{'webserver.local': {'lane'}, 'myworkstation.local': set(), 'mailserver.local': set()}\n",
      "webserver.local: lane\n"
     ]
    }
   ],
   "source": [
    "from datetime import datetime\n",
    "\n",
    "def get_event_date(event):\n",
    "    return datetime.strptime(event.date, '%Y-%m-%d %H:%M:%S')\n",
    "\n",
    "def current_users(events):\n",
    "    events.sort(key=get_event_date)\n",
    "    machines = {}\n",
    "    for event in events:\n",
    "        if event.machine not in machines:\n",
    "            machines[event.machine] = set()\n",
    "        if event.type == \"login\":\n",
    "            machines[event.machine].add(event.user)\n",
    "        elif event.type == \"logout\":\n",
    "            if event.user in machines[event.machine]:\n",
    "                machines[event.machine].remove(event.user)\n",
    "    return machines\n",
    "\n",
    "def generate_report(machines):\n",
    "    for machine, users in machines.items():\n",
    "        if len(users) > 0:\n",
    "            user_list = \", \".join(users)\n",
    "            print(\"{}: {}\".format(machine, user_list))\n",
    "class Event:\n",
    "    def __init__(self, event_date, event_type, machine_name, user):\n",
    "        self.date = event_date\n",
    "        self.type = event_type\n",
    "        self.machine = machine_name\n",
    "        self.user = user\n",
    "events = [\n",
    "    Event('2020-01-21 12:45:56', 'login', 'myworkstation.local', 'jordan'),\n",
    "    Event('2020-01-22 15:53:42', 'logout', 'webserver.local', 'jordan'),\n",
    "    Event('2020-01-21 18:53:21', 'login', 'webserver.local', 'lane'),\n",
    "    Event('2020-01-22 10:25:34', 'logout', 'myworkstation.local', 'jordan'),\n",
    "    Event('2020-01-21 08:20:01', 'login', 'webserver.local', 'jordan'),\n",
    "    Event('2020-01-23 11:24:35', 'logout', 'mailserver.local', 'chris'),\n",
    "]\n",
    "users = current_users(events)\n",
    "print(users)\n",
    "generate_report(users)"
   ]
  },
  {
   "cell_type": "code",
   "execution_count": 11,
   "metadata": {},
   "outputs": [
    {
     "name": "stdout",
     "output_type": "stream",
     "text": [
      "{'webserver.local': {'lane'}, 'myworkstation.local': set(), 'mailserver.local': set()}\n",
      "webserver.local: lane\n"
     ]
    }
   ],
   "source": [
    "from datetime import datetime\n",
    "\n",
    "def get_event_date(event):\n",
    "    return datetime.strptime(event.date, '%Y-%m-%d %H:%M:%S')\n",
    "\n",
    "def current_users(events):\n",
    "    events.sort(key=get_event_date)\n",
    "    machines = {}\n",
    "    for event in events:\n",
    "        if event.machine not in machines:\n",
    "            machines[event.machine] = set()\n",
    "        if event.type == \"login\":\n",
    "            machines[event.machine].add(event.user)\n",
    "        elif event.type == \"logout\":\n",
    "            # Only attempt to remove the user if they are actually logged in\n",
    "            if event.user in machines[event.machine]:\n",
    "                machines[event.machine].remove(event.user)\n",
    "    return machines\n",
    "\n",
    "def generate_report(machines):\n",
    "    for machine, users in machines.items():\n",
    "        if users:  # Only print if there are users logged in\n",
    "            user_list = \", \".join(users)\n",
    "            print(\"{}: {}\".format(machine, user_list))\n",
    "\n",
    "class Event:\n",
    "    def __init__(self, event_date, event_type, machine_name, user):\n",
    "        self.date = event_date\n",
    "        self.type = event_type\n",
    "        self.machine = machine_name\n",
    "        self.user = user\n",
    "\n",
    "events = [\n",
    "    Event('2020-01-21 12:45:56', 'login', 'myworkstation.local', 'jordan'),\n",
    "    Event('2020-01-22 15:53:42', 'logout', 'webserver.local', 'jordan'),\n",
    "    Event('2020-01-21 18:53:21', 'login', 'webserver.local', 'lane'),\n",
    "    Event('2020-01-22 10:25:34', 'logout', 'myworkstation.local', 'jordan'),\n",
    "    Event('2020-01-21 08:20:01', 'login', 'webserver.local', 'jordan'),\n",
    "    Event('2020-01-23 11:24:35', 'logout', 'mailserver.local', 'chris'),\n",
    "]\n",
    "\n",
    "users = current_users(events)\n",
    "print(users)\n",
    "generate_report(users)\n"
   ]
  },
  {
   "cell_type": "code",
   "execution_count": 14,
   "metadata": {},
   "outputs": [
    {
     "name": "stdout",
     "output_type": "stream",
     "text": [
      "[1, 2, 3, 4, 5]\n"
     ]
    }
   ],
   "source": [
    "numbers = [ 3, 2, 4, 5, 1 ]\n",
    "numbers.sort()\n",
    "print(numbers)"
   ]
  },
  {
   "cell_type": "code",
   "execution_count": 15,
   "metadata": {},
   "outputs": [
    {
     "name": "stdout",
     "output_type": "stream",
     "text": [
      "['Ray', 'Alex', 'Kelly', 'Carlos']\n"
     ]
    }
   ],
   "source": [
    "names = [\"Carlos\", \"Ray\", \"Alex\", \"Kelly\"]\n",
    "print(sorted(names, key=len))"
   ]
  },
  {
   "cell_type": "code",
   "execution_count": null,
   "metadata": {},
   "outputs": [],
   "source": [
    "class Event:\n",
    "    def __init__(self, event_date, event_type, machine_name, user):\n",
    "        self.date = event_date\n",
    "        self.type = event_type\n",
    "        self.machine = machine_name\n",
    "        self.user = user"
   ]
  }
 ],
 "metadata": {
  "kernelspec": {
   "display_name": "myenv",
   "language": "python",
   "name": "myenv"
  },
  "language_info": {
   "codemirror_mode": {
    "name": "ipython",
    "version": 3
   },
   "file_extension": ".py",
   "mimetype": "text/x-python",
   "name": "python",
   "nbconvert_exporter": "python",
   "pygments_lexer": "ipython3",
   "version": "3.12.1"
  }
 },
 "nbformat": 4,
 "nbformat_minor": 2
}
