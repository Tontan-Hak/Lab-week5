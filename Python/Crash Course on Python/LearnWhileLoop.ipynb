{
 "cells": [
  {
   "cell_type": "markdown",
   "metadata": {},
   "source": [
    "# How to use while loops, For Loop, Recursion and Module Review "
   ]
  },
  {
   "cell_type": "code",
   "execution_count": 1,
   "metadata": {},
   "outputs": [
    {
     "name": "stdout",
     "output_type": "stream",
     "text": [
      "Not there yet, x=0\n",
      "Not there yet, x=1\n",
      "Not there yet, x=2\n",
      "Not there yet, x=3\n",
      "Not there yet, x=4\n",
      "x=5\n"
     ]
    }
   ],
   "source": [
    "# While loops instruct your computer to continuously execute your code based on the value of a condition.\n",
    "x =   0\n",
    "while x < 5:\n",
    "    print(\"Not there yet, x=\" + str(x))\n",
    "    x = x + 1\n",
    "print(\"x=\" + str(x))"
   ]
  },
  {
   "cell_type": "code",
   "execution_count": 2,
   "metadata": {},
   "outputs": [
    {
     "name": "stdout",
     "output_type": "stream",
     "text": [
      "Attempt 1\n",
      "Attempt 2\n",
      "Attempt 3\n",
      "Attempt 4\n",
      "Attempt 5\n",
      "Done\n"
     ]
    }
   ],
   "source": [
    "def attempts(n):\n",
    "    x=1\n",
    "    while x <= n:\n",
    "        print(\"Attempt \" + str(x))\n",
    "        x +=1 \n",
    "    print(\"Done\")\n",
    "attempts(5)"
   ]
  },
  {
   "cell_type": "code",
   "execution_count": 3,
   "metadata": {},
   "outputs": [
    {
     "name": "stdout",
     "output_type": "stream",
     "text": [
      "Hello\n",
      "Hello\n",
      "Hello\n"
     ]
    }
   ],
   "source": [
    "my_variable = 7\n",
    "while my_variable < 10:\n",
    "    print(\"Hello\")\n",
    "    my_variable += 1"
   ]
  },
  {
   "cell_type": "code",
   "execution_count": 4,
   "metadata": {},
   "outputs": [
    {
     "name": "stdout",
     "output_type": "stream",
     "text": [
      "45 1\n"
     ]
    }
   ],
   "source": [
    "x = 1\n",
    "sum = 0\n",
    "while x < 10:\n",
    "    sum = sum + x\n",
    "    x = x + 1\n",
    "\n",
    "product = 1\n",
    "while x < 10:\n",
    "    product = product * x\n",
    "    x = x + 1\n",
    "\n",
    "print(sum, product)\n",
    "#Ouput 45 1"
   ]
  },
  {
   "cell_type": "code",
   "execution_count": 5,
   "metadata": {},
   "outputs": [
    {
     "name": "stdout",
     "output_type": "stream",
     "text": [
      "3\n",
      "2\n",
      "1\n",
      "Zero!\n"
     ]
    }
   ],
   "source": [
    "def count_down(start_number):\n",
    "    current = start_number # Initialize the current variable\n",
    "    while (current > 0):\n",
    "        print(current)\n",
    "        current -= 1\n",
    "    print(\"Zero!\")\n",
    "\n",
    "count_down(3)"
   ]
  },
  {
   "cell_type": "code",
   "execution_count": 6,
   "metadata": {},
   "outputs": [
    {
     "name": "stdout",
     "output_type": "stream",
     "text": [
      "1\n",
      "2\n",
      "3\n",
      "4\n",
      "5\n"
     ]
    }
   ],
   "source": [
    "def print_range(start, end):\n",
    "\t# Loop through the numbers from start to end\n",
    "\tn = start\n",
    "\twhile n <= end:\n",
    "\t\tprint(n)\n",
    "\t\tn += 1  # Increment n by 1 to avoid infinite loop\n",
    "\n",
    "print_range(1, 5)  # Should print 1 2 3 4 5 (each number on its own line)\n",
    "\n",
    "\n",
    "# How do you avoid the most common pitfalls when writing while loops? First, remember to initialize your variables, and second, check that your loops won't run forever."
   ]
  },
  {
   "cell_type": "code",
   "execution_count": 7,
   "metadata": {},
   "outputs": [
    {
     "name": "stdout",
     "output_type": "stream",
     "text": [
      "5\n",
      "10\n",
      "15\n",
      "20\n",
      "25\n",
      "30\n",
      "35\n",
      "40\n",
      "45\n",
      "50\n",
      "Done\n"
     ]
    }
   ],
   "source": [
    "multiplier = 1\n",
    "result = multiplier * 5\n",
    "while result <= 50:\n",
    "    print(result)\n",
    "    multiplier += 1\n",
    "    result = multiplier * 5\n",
    "print(\"Done\")"
   ]
  },
  {
   "cell_type": "code",
   "execution_count": 8,
   "metadata": {},
   "outputs": [
    {
     "name": "stdout",
     "output_type": "stream",
     "text": [
      "0\n",
      "2\n",
      "4\n",
      "8\n"
     ]
    }
   ],
   "source": [
    "def count_factors(given_number):\n",
    "    factor = 1\n",
    "    count = 1\n",
    "    if given_number == 0:\n",
    "        return 0\n",
    "    while factor < given_number: \n",
    "        if given_number % factor ==0:\n",
    "            count +=1\n",
    "        factor +=1\n",
    "    return count\n",
    "\n",
    "print(count_factors(0)) # Count value should be 0\n",
    "print(count_factors(3)) # Should count 2 factors (1x3)\n",
    "print(count_factors(10)) # Should count 4 factors (1x10, 2x5)\n",
    "print(count_factors(24)) # Should count 8 factors (1x24, 2x12, 3x8, and 4x6)."
   ]
  },
  {
   "cell_type": "code",
   "execution_count": 2,
   "metadata": {},
   "outputs": [
    {
     "name": "stdout",
     "output_type": "stream",
     "text": [
      "5 + 1 = 6\n",
      "5 + 2 = 7\n",
      "5 + 3 = 8\n",
      "5 + 4 = 9\n",
      "5 + 5 = 10\n",
      "17 + 1 = 18\n",
      "17 + 2 = 19\n",
      "17 + 3 = 20\n",
      "17 + 4 = 21\n",
      "17 + 5 = 22\n",
      "30 + 1 = 31\n",
      "30 + 2 = 32\n",
      "30 + 3 = 33\n",
      "30 + 4 = 34\n",
      "30 + 5 = 35\n"
     ]
    }
   ],
   "source": [
    "def addition_table(given_number):\n",
    "    iterated_number = 1\n",
    "    my_sum = 1\n",
    "    while iterated_number <= 5:\n",
    "        my_sum = given_number + iterated_number\n",
    "        if my_sum > 50:\n",
    "            break \n",
    "        print(str(given_number), \"+\", str(iterated_number), \"=\", str(my_sum))\n",
    "        iterated_number += 1\n",
    "\n",
    "addition_table(5)\n",
    "addition_table(17)\n",
    "addition_table(30)"
   ]
  },
  {
   "cell_type": "code",
   "execution_count": 3,
   "metadata": {},
   "outputs": [
    {
     "name": "stdout",
     "output_type": "stream",
     "text": [
      "False\n",
      "True\n",
      "True\n",
      "False\n"
     ]
    }
   ],
   "source": [
    "# Exercises\n",
    "def is_power_of_two(number):\n",
    "    if number <= 0:\n",
    "        return False\n",
    "# This while loop checks if the \"number\" can be divided by two\n",
    "# without leaving a remainder. How can you change the while loop to\n",
    "# avoid a Python ZeroDivisionError?\n",
    "    while number % 2 == 0:\n",
    "        number = number / 2\n",
    "# If after dividing by 2 \"number\" equals 1, then \"number\" is a power\n",
    "# of 2.\n",
    "    if number == 1:\n",
    "        return True\n",
    "    return False\n",
    "\n",
    "# Calls to the function\n",
    "print(is_power_of_two(0)) # Should be False\n",
    "print(is_power_of_two(1)) # Should be True\n",
    "print(is_power_of_two(8)) # Should be True\n",
    "print(is_power_of_two(9)) # Should be False"
   ]
  },
  {
   "cell_type": "code",
   "execution_count": 4,
   "metadata": {},
   "outputs": [
    {
     "name": "stdout",
     "output_type": "stream",
     "text": [
      "6\n",
      "10\n",
      "15\n"
     ]
    }
   ],
   "source": [
    "def sum_of_integers(n):\n",
    "    if n < 1:\n",
    "        return 0\n",
    "    i = 1\n",
    "    sum = 0\n",
    "    while i <=n:\n",
    "        sum = sum + i\n",
    "        i +=1  \n",
    "    return sum\n",
    "print(sum_of_integers(3))  # should print 6\n",
    "print(sum_of_integers(4))  # should print 10\n",
    "print(sum_of_integers(5))  # should print 15"
   ]
  },
  {
   "cell_type": "code",
   "execution_count": 5,
   "metadata": {},
   "outputs": [
    {
     "name": "stdout",
     "output_type": "stream",
     "text": [
      "3x1=3\n",
      "3x2=6\n",
      "3x3=9\n",
      "3x4=12\n",
      "3x5=15\n",
      "5x1=5\n",
      "5x2=10\n",
      "5x3=15\n",
      "5x4=20\n",
      "5x5=25\n",
      "8x1=8\n",
      "8x2=16\n",
      "8x3=24\n"
     ]
    }
   ],
   "source": [
    "def multiplication_table(number):\n",
    "    # Initialize the appropriate variable\n",
    "    multiplier = 1\n",
    "\n",
    "    # Complete the while loop condition.\n",
    "    while multiplier <= 5:\n",
    "        result = number * multiplier \n",
    "        if result > 25:\n",
    "            # Enter the action to take if the result > 25\n",
    "            break\n",
    "        print(str(number) + \"x\" + str(multiplier) + \"=\" + str(result))\n",
    "        \n",
    "        # Increment the appropriate variable\n",
    "        multiplier += 1\n",
    "\n",
    "# Test cases\n",
    "multiplication_table(3) \n",
    "# Should print: \n",
    "# 3x1=3 \n",
    "# 3x2=6 \n",
    "# 3x3=9 \n",
    "# 3x4=12 \n",
    "# 3x5=15\n",
    "\n",
    "multiplication_table(5) \n",
    "# Should print: \n",
    "# 5x1=5\n",
    "# 5x2=10\n",
    "# 5x3=15\n",
    "# 5x4=20\n",
    "# 5x5=25\n",
    "\n",
    "multiplication_table(8) \n",
    "# Should print:\n",
    "# 8x1=8\n",
    "# 8x2=16\n",
    "# 8x3=24\n"
   ]
  },
  {
   "cell_type": "code",
   "execution_count": 1,
   "metadata": {},
   "outputs": [
    {
     "name": "stdout",
     "output_type": "stream",
     "text": [
      "13\n",
      "73\n",
      "501\n",
      "1\n"
     ]
    }
   ],
   "source": [
    "def even_numbers(n):\n",
    "    count = 0\n",
    "    current_number = 0\n",
    "    while current_number <= n: # Complete the while loop condition\n",
    "        if current_number % 2 == 0:\n",
    "            count +=1 # Increment the appropriate variable\n",
    "        current_number +=1 # Increment the appropriate variable\n",
    "    return count\n",
    "    \n",
    "print(even_numbers(25))   # Should print 13\n",
    "print(even_numbers(144))  # Should print 73\n",
    "print(even_numbers(1000)) # Should print 501\n",
    "print(even_numbers(0))    # Should print 1"
   ]
  }
 ],
 "metadata": {
  "kernelspec": {
   "display_name": "myenv",
   "language": "python",
   "name": "myenv"
  },
  "language_info": {
   "codemirror_mode": {
    "name": "ipython",
    "version": 3
   },
   "file_extension": ".py",
   "mimetype": "text/x-python",
   "name": "python",
   "nbconvert_exporter": "python",
   "pygments_lexer": "ipython3",
   "version": "3.12.1"
  }
 },
 "nbformat": 4,
 "nbformat_minor": 2
}
