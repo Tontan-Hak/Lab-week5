{
 "cells": [
  {
   "cell_type": "markdown",
   "metadata": {},
   "source": [
    "## 10 Essential Insights About Python Classes Every Developer Should Know\n",
    "1. Understanding the Basics: \n",
    "\n",
    "Class vs Instance: A class is a blueprint for creating objects(instances). Each instance has its own attributes and methodss defined by the class. \n",
    "\n",
    "Init Methed: This is the constructor method, called automatically when an object is created. It's used to initialize the object's state."
   ]
  },
  {
   "cell_type": "code",
   "execution_count": 3,
   "metadata": {},
   "outputs": [],
   "source": [
    "class Dog:\n",
    "    def __init__(self, name, age):\n",
    "        self.name = name\n",
    "        self.age = age"
   ]
  },
  {
   "cell_type": "markdown",
   "metadata": {},
   "source": [
    "2. Self Parameter:\n",
    "\n",
    "The self parameter refers to the instance calling the method. It allows access to the instance's attributes and methods within the class."
   ]
  },
  {
   "cell_type": "code",
   "execution_count": 4,
   "metadata": {},
   "outputs": [],
   "source": [
    "class Dog:\n",
    "    def __init__(self, name, age):\n",
    "        self.name = name\n",
    "        self.age = age\n",
    "    def bark(self):\n",
    "        print(f\"{self.name} says woof!\")"
   ]
  },
  {
   "cell_type": "markdown",
   "metadata": {},
   "source": [
    "3. Class vs Instance Attributes:\n",
    "\n",
    "Instance Attributes: Defined in the init method and are unique to each instance. \n",
    "\n",
    "Class Attributes: Share across all instances of the class."
   ]
  },
  {
   "cell_type": "code",
   "execution_count": 5,
   "metadata": {},
   "outputs": [],
   "source": [
    "class Dog:\n",
    "    species = \"Canis lupus familiaris\"\n",
    "    def __init__(self, name, age):\n",
    "        self.name = name\n",
    "        self.age = age "
   ]
  },
  {
   "cell_type": "markdown",
   "metadata": {},
   "source": [
    "4. Method Types: \n",
    "\n",
    "Instance Methods: Take self as the first parameter and can modify object state.\n",
    "\n",
    "Class Methods: Take cls as the first parameter and cam modify class state. Use the @classmethod decorator.\n",
    "\n",
    "Static Methods: Don't modify object or class state. Use the @staticmethod decorator."
   ]
  },
  {
   "cell_type": "code",
   "execution_count": 6,
   "metadata": {},
   "outputs": [],
   "source": [
    "class Dog: \n",
    "    species = \"I love you Crush\"\n",
    "    def __init__(self, name, age):\n",
    "        self.name = name\n",
    "        self.age = age\n",
    "    def bark(self): # instance method\n",
    "        print(f\"{self.name} says woof!\")\n",
    "    @classmethod\n",
    "    def species_info(cls): # Class method\n",
    "        return f\"This species is {cls.species}\"\n",
    "    @staticmethod\n",
    "    def general_info(): # Static method\n",
    "        return \"Dogs are loyal pets,\" "
   ]
  },
  {
   "cell_type": "markdown",
   "metadata": {},
   "source": [
    "5. Inheritance: \n",
    "\n",
    "Inheritance allows you to define a class that inherits all the methods and properties from another class.This promotes code reusability."
   ]
  },
  {
   "cell_type": "code",
   "execution_count": 7,
   "metadata": {},
   "outputs": [],
   "source": [
    "class Animal: \n",
    "    def __init__(self, name):\n",
    "        self.name = name\n",
    "    def speak(self):\n",
    "        raise NotImplementedError(\"Subclass must implement this method\")\n",
    "class Dog(Animal):\n",
    "    def speak(self): \n",
    "        return f\"{self.name} says woof!\""
   ]
  },
  {
   "cell_type": "markdown",
   "metadata": {},
   "source": [
    "6. Understanding super(): \n",
    "\n",
    "The super() function allows you to call methods from the parent class, which is especially useful in inheritance."
   ]
  },
  {
   "cell_type": "code",
   "execution_count": 8,
   "metadata": {},
   "outputs": [],
   "source": [
    "class Puppy(Dog): \n",
    "    def __init__(self, name, age):\n",
    "        super().__init__(name, age)  #Call the parent class constructor "
   ]
  },
  {
   "cell_type": "markdown",
   "metadata": {},
   "source": [
    "7. Encapsulation: \n",
    "\n",
    "Encapsulation restricts direct access to some of an object's components. In Python, you can denote private attributes by prefixing them with an underscore (_)."
   ]
  },
  {
   "cell_type": "code",
   "execution_count": 9,
   "metadata": {},
   "outputs": [],
   "source": [
    "class Dog:\n",
    "    def __init__(self, name, age): \n",
    "        self.name = name  # \"Protected\" attribute"
   ]
  },
  {
   "cell_type": "markdown",
   "metadata": {},
   "source": [
    "# Magic Methods (Dunder Methods): \n",
    "\n",
    "Magic methods are special methods with double underscores before and after their names (e.g init, str, repr). They allow you to define how your objects behave in certain situations. "
   ]
  },
  {
   "cell_type": "code",
   "execution_count": 10,
   "metadata": {},
   "outputs": [],
   "source": [
    "class Dog: \n",
    "    def __init__(self,name, age):\n",
    "        self.name = name \n",
    "        self.age = age\n",
    "    def __str__(self):\n",
    "        return f\"Dog(name={self.name}, age={self.age})\""
   ]
  },
  {
   "cell_type": "markdown",
   "metadata": {},
   "source": [
    "9. Avoiding Common Pitfalls: \n",
    "\n",
    "Mutable Default Arguments: Avoid using mutable types (like lists or dictionaries) as default arguments in methods. Use None instead and assign the dfault inside the method."
   ]
  },
  {
   "cell_type": "code",
   "execution_count": 11,
   "metadata": {},
   "outputs": [],
   "source": [
    "def __init__(self, name, toys=None): \n",
    "    self.name = name\n",
    "    self.toys = toys or []"
   ]
  },
  {
   "cell_type": "markdown",
   "metadata": {},
   "source": [
    "10. Composition Over inheritance: \n",
    "\n",
    "White inheritance is useful, composition (where a class is composed of one or more objects of other classes) can be a better approach in many scenarios as it provides more flexibility."
   ]
  },
  {
   "cell_type": "code",
   "execution_count": 12,
   "metadata": {},
   "outputs": [],
   "source": [
    "class Engine:\n",
    "    def start(self): \n",
    "        return \"Engine started\"\n",
    "class Car: \n",
    "    def __init__(self, engine):\n",
    "        self.engine = engine\n",
    "        \n",
    "    def start(self):\n",
    "        return self.engine.start()"
   ]
  },
  {
   "cell_type": "markdown",
   "metadata": {},
   "source": [
    "# Check Internet Speed using Python\n",
    "\n",
    "pip install speedtest-cli"
   ]
  },
  {
   "cell_type": "code",
   "execution_count": 1,
   "metadata": {},
   "outputs": [
    {
     "name": "stdout",
     "output_type": "stream",
     "text": [
      "Download Speed in Mbps:  13.85\n",
      "Upload Speed in Mbps:  24.49\n",
      "Ping:  17.871\n"
     ]
    }
   ],
   "source": [
    "import speedtest as st \n",
    "\n",
    "def Speed_Test():\n",
    "    test = st.Speedtest()\n",
    "    \n",
    "    down_speed = test.download()\n",
    "    down_speed = round(down_speed /10**6, 2)\n",
    "    print(\"Download Speed in Mbps: \", down_speed)\n",
    "    \n",
    "    up_speed = test.upload()\n",
    "    up_speed = round(up_speed / 10**6, 2)\n",
    "    print(\"Upload Speed in Mbps: \", up_speed)\n",
    "    \n",
    "    ping = test.results.ping\n",
    "    print(\"Ping: \", ping)\n",
    "Speed_Test()"
   ]
  }
 ],
 "metadata": {
  "kernelspec": {
   "display_name": "myenv",
   "language": "python",
   "name": "myenv"
  },
  "language_info": {
   "codemirror_mode": {
    "name": "ipython",
    "version": 3
   },
   "file_extension": ".py",
   "mimetype": "text/x-python",
   "name": "python",
   "nbconvert_exporter": "python",
   "pygments_lexer": "ipython3",
   "version": "3.12.1"
  }
 },
 "nbformat": 4,
 "nbformat_minor": 2
}
