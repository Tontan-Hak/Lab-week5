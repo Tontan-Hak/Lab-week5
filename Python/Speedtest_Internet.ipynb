{
 "cells": [
  {
   "cell_type": "markdown",
   "metadata": {},
   "source": [
    "# Check Internet Speed using Python\n",
    "\n",
    "pip install speedtest-cli"
   ]
  },
  {
   "cell_type": "code",
   "execution_count": 1,
   "metadata": {},
   "outputs": [
    {
     "name": "stdout",
     "output_type": "stream",
     "text": [
      "Download Speed in Mbps:  19.26\n",
      "Upload Speed in Mbps:  48.85\n",
      "Ping:  11.812\n"
     ]
    }
   ],
   "source": [
    "import speedtest as st \n",
    "\n",
    "def Speed_Test():\n",
    "    test = st.Speedtest()\n",
    "    \n",
    "    down_speed = test.download()\n",
    "    down_speed = round(down_speed /10**6, 2)\n",
    "    print(\"Download Speed in Mbps: \", down_speed)\n",
    "    \n",
    "    up_speed = test.upload()\n",
    "    up_speed = round(up_speed / 10**6, 2)\n",
    "    print(\"Upload Speed in Mbps: \", up_speed)\n",
    "    \n",
    "    ping = test.results.ping\n",
    "    print(\"Ping: \", ping)\n",
    "Speed_Test()"
   ]
  }
 ],
 "metadata": {
  "kernelspec": {
   "display_name": "myenv",
   "language": "python",
   "name": "myenv"
  },
  "language_info": {
   "codemirror_mode": {
    "name": "ipython",
    "version": 3
   },
   "file_extension": ".py",
   "mimetype": "text/x-python",
   "name": "python",
   "nbconvert_exporter": "python",
   "pygments_lexer": "ipython3",
   "version": "3.12.1"
  }
 },
 "nbformat": 4,
 "nbformat_minor": 2
}
