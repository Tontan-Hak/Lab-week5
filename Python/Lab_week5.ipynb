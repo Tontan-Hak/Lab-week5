{
 "cells": [
  {
   "cell_type": "code",
   "execution_count": 1,
   "metadata": {},
   "outputs": [],
   "source": [
    "#Week5"
   ]
  },
  {
   "cell_type": "code",
   "execution_count": 2,
   "metadata": {},
   "outputs": [
    {
     "name": "stdout",
     "output_type": "stream",
     "text": [
      "4188.79020478639\n"
     ]
    }
   ],
   "source": [
    "#Q1\n",
    "#a. Enter the statement to import the math module.\n",
    "#b. Calculate the volume of the sphere with radius 10, ( v=4/3 piR**2 )\n",
    "#c. Display its value.\n",
    "from math import pi as PI\n",
    "Radius = 10\n",
    "Volume = 4/3*PI*Radius* Radius **2 \n",
    "print(Volume)"
   ]
  },
  {
   "cell_type": "code",
   "execution_count": 3,
   "metadata": {},
   "outputs": [
    {
     "name": "stdout",
     "output_type": "stream",
     "text": [
      "10\n",
      "3.141592653589793\n",
      "10\n",
      "314.1592653589793\n"
     ]
    }
   ],
   "source": [
    "#Q2\n",
    "#a.Enter the following statements:\n",
    " # from math import pi as PI\n",
    " # radius = 10\n",
    "#b.    Run the program from within IDLE by choosing the Run > Run Module option.\n",
    "#c.    In the interactive shell, display the values of PI and radius.\n",
    "#d.    Enter an expression to calculate the area of the circle. and display its value.\n",
    "from math import pi as PI\n",
    "Radius= 10\n",
    "print(Radius)\n",
    "10\n",
    "print(PI)\n",
    "3.141592653589793\n",
    "print(Radius)\n",
    "10\n",
    "Area = PI*Radius**2\n",
    "print(Area)\n",
    "\n"
   ]
  },
  {
   "cell_type": "code",
   "execution_count": 4,
   "metadata": {},
   "outputs": [
    {
     "name": "stdout",
     "output_type": "stream",
     "text": [
      "9.201748332183113\n"
     ]
    }
   ],
   "source": [
    "#Q3\n",
    "#You run 10 kilometers in 40 minutes 30 seconds. \n",
    "# Write program to find out how many miles you can run in an hour. \n",
    "#A mile is 1.61 kilometers and display its value.\n",
    "distance_in_miles = 10/1.61\n",
    "time_taken = 40.5/60\n",
    "# in hours\n",
    "speed = distance_in_miles /time_taken\n",
    "print(speed)\n"
   ]
  }
 ],
 "metadata": {
  "interpreter": {
   "hash": "21976bedb27beba90465fbbe4d97e4d7c24702e9c13d80522fc2b3f456f7bbe9"
  },
  "kernelspec": {
   "display_name": "Python 3.10.0b1 64-bit",
   "language": "python",
   "name": "python3"
  },
  "language_info": {
   "codemirror_mode": {
    "name": "ipython",
    "version": 3
   },
   "file_extension": ".py",
   "mimetype": "text/x-python",
   "name": "python",
   "nbconvert_exporter": "python",
   "pygments_lexer": "ipython3",
   "version": "3.10.0b1"
  },
  "orig_nbformat": 4
 },
 "nbformat": 4,
 "nbformat_minor": 2
}
